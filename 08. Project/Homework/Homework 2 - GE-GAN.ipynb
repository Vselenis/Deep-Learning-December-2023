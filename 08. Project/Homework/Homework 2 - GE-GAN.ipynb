{
 "cells": [
  {
   "cell_type": "markdown",
   "id": "2a7c4f49",
   "metadata": {},
   "source": [
    "<!DOCTYPE html>\n",
    "<html>\n",
    "\n",
    "<body>\n",
    "\n",
    "<h1><center>GE-GAN: A novel deep learning framework for road traffic state estimation\n",
    "</center></h1> \n",
    "<h4><center>Peer review</center></h4>\n",
    "\n",
    "</body>\n",
    "</html>"
   ]
  },
  {
   "cell_type": "markdown",
   "id": "dfd1bf8d",
   "metadata": {},
   "source": [
    "## Introduction"
   ]
  },
  {
   "cell_type": "markdown",
   "id": "748c7b67",
   "metadata": {},
   "source": [
    "The escalating demand for transportation has led to significant challenges in the form of traffic congestion and safety issues, impacting economic development and daily life. Addressing these challenges necessitates accurate determination of road traffic states, including parameters like flow, density, speed, and travel time. Researchers have proposed two main types of methods for traffic estimation: model-driven, which uses traffic models, and data-driven, relying on statistical analysis from detectors. This paper introduces a novel deep learning framework, GE-GAN, utilizing graph embedding (GE) and Generative Adversarial Network (GAN) for more accurate traffic state estimation. The framework leverages DeepWalk for graph embedding, GAN for learning road traffic state data distribution, and Wasserstein GAN (WGAN) to overcome training difficulties, demonstrating superior performance compared to traditional methods."
   ]
  },
  {
   "cell_type": "markdown",
   "id": "d7b2c7ea",
   "metadata": {},
   "source": [
    "## Methodology"
   ]
  },
  {
   "cell_type": "markdown",
   "id": "0b9b4852",
   "metadata": {},
   "source": [
    "The paper presents a method called GE-GAN to estimate road traffic states accurately. It uses DeepWalk to understand the road network structure and a Generative Adversarial Network (GAN) to generate real-time traffic data for specific detectors, overcoming challenges in spatial information selection and training difficulties.\n",
    "DeepWalk is a common technique for embedding graphs, especially useful for large ones that can be trained simultaneously. It can adjust to changes in local networks by focusing on certain random walk paths. The method involves generating random walks and updating procedures, with applications in content recommendations and community detection, demonstrating effectiveness in representing road traffic state detectors or segments within road networks for predicting traffic conditions.\n",
    "\n",
    "Following random walks for each detector, the representations are updated using the Skip-Gram algorithm, aiming to maximize the likelihood of relevant detectors appearing in context for an effective spatial representation in the road network. \n",
    "Hierarchical softmax is applied to estimate the probability distribution, reducing computational demands and enabling the derivation of the representation traffic state matrix, which captures the most pertinent links in the road network.\n",
    "\n",
    " The road traffic state generation based on the generative adversarial network\n",
    "The generative adversarial network (GAN) architecture comprises a generator (G) and a discriminator (D). G generates candidates, while D evaluates them, with G learning to map from a latent space to a data distribution, and D distinguishing generated candidates from the true data distribution. The generator aims to produce target detector data using spatial information obtained by graph embedding (GE), supervised by the discriminator to ensure similarity with real data distributions. To incorporate spatial information, the traffic state data of relevant detectors within a sliding window are utilized. The GAN employs the Wasserstein GAN (WGAN) variant, optimizing earth mover's distance to address training difficulties and collapse mode issues, ensuring sample diversity. The objective function includes generator and discriminator losses, where the generator strives to produce data resembling real data distribution, and the discriminator aims to maximize the expected difference between real and generated\n"
   ]
  },
  {
   "cell_type": "markdown",
   "id": "57f48b76",
   "metadata": {},
   "source": [
    "## Result and conclusion"
   ]
  },
  {
   "cell_type": "markdown",
   "id": "54e6d3b8",
   "metadata": {},
   "source": [
    "The study experiments were conducted on road traffic state estimation utilizing the GE-GAN model, with a specific focus on speed estimation for both single and multiple detectors within the PeMS and Seattle datasets. The GE-GAN incorporates graph embedding to augment the spatial correlation of detectors, resulting in improved accuracy compared to a GAN model lacking this enhancement, as evidenced by lower Root Mean Squared Error (RMSE), Mean Absolute Error (MAE), and Mean Absolute Percentage Error (MAPE). The study delves into a comprehensive evaluation of the GE-GAN's performance across distinct detectors and sliding window sizes, revealing its robustness and efficacy. The outcomes underscore the model's proficiency in generating precise traffic state data, particularly when confronted with noise and varying sliding window dimensions. In conclusion, the proposed GE-GAN model emerges as a promising methodology for road traffic state estimation, demonstrating heightened performance across diverse scenarios."
   ]
  },
  {
   "cell_type": "markdown",
   "id": "ef5d66d4",
   "metadata": {},
   "source": [
    "## References "
   ]
  },
  {
   "cell_type": "markdown",
   "id": "241b9a55",
   "metadata": {},
   "source": [
    "[GE-GAN - sciencedirect.com](https://www.sciencedirect.com/science/article/abs/pii/S0968090X19312409?casa_token=c1jYcPI05hsAAAAA%3A8fMTGngXuf9Qnln6AC_GWg5fii3vO-ZhT7y-u9jvpqAVc0fYFl7KhxnxoYku3V6qgrxaKI_Q&fbclid=IwAR3VzQW8P5c5byaIHoVoFvzJafGDO75W7XN-dNLji8Qb_lti8fP1EB-xs9U)"
   ]
  }
 ],
 "metadata": {
  "kernelspec": {
   "display_name": "Python 3 (ipykernel)",
   "language": "python",
   "name": "python3"
  },
  "language_info": {
   "codemirror_mode": {
    "name": "ipython",
    "version": 3
   },
   "file_extension": ".py",
   "mimetype": "text/x-python",
   "name": "python",
   "nbconvert_exporter": "python",
   "pygments_lexer": "ipython3",
   "version": "3.9.13"
  }
 },
 "nbformat": 4,
 "nbformat_minor": 5
}
