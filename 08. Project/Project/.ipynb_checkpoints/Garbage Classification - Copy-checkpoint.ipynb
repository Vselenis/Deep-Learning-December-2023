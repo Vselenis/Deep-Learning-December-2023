{
 "cells": [
  {
   "cell_type": "code",
   "execution_count": 47,
   "id": "c16a36da",
   "metadata": {},
   "outputs": [],
   "source": [
    "import numpy as np \n",
    "import pandas as pd \n",
    "import matplotlib.pyplot as plt\n",
    "\n",
    "import os\n",
    "import cv2\n",
    "import random\n",
    "from PIL import Image\n",
    "\n",
    "from collections import defaultdict\n",
    "from matplotlib import pyplot as plt\n",
    "from tensorflow.keras.models import Model\n",
    "from tensorflow.keras.preprocessing import image\n",
    "from tensorflow.keras.preprocessing.image import ImageDataGenerator\n",
    "from tensorflow.keras.models import Sequential\n",
    "from tensorflow.keras.callbacks import EarlyStopping\n",
    "from tensorflow.keras.layers import Dense, Dropout, Flatten, Conv2D, MaxPool2D, BatchNormalization,MaxPooling2D,BatchNormalization,\\\n",
    "                        Permute, TimeDistributed, GlobalAveragePooling2D, SeparableConv2D,\\\n",
    "ZeroPadding2D, Convolution2D, ZeroPadding2D, Conv2DTranspose,ReLU, UpSampling2D, Concatenate, Conv2DTranspose\n",
    "\n",
    "import tensorflow as tf \n",
    "from tensorflow.io import read_file\n",
    "from tensorflow.io import decode_jpeg\n"
   ]
  },
  {
   "cell_type": "markdown",
   "id": "ec2f5c94",
   "metadata": {},
   "source": [
    "## 10. References <a class=\"anchor\" id=\"References\"></a>"
   ]
  },
  {
   "cell_type": "markdown",
   "id": "2cc3e2ee",
   "metadata": {},
   "source": [
    "* [Dataset: Garbage Classification (12 classes)](https://www.kaggle.com/datasets/mostafaabla/garbage-classification)\n",
    "\n",
    "* [CNN Model: Trash Classification](https://www.researchgate.net/publication/346937517_Trash_Classification_Classifying_garbage_using_Deep_Learning)\n",
    "\n",
    "* [Huijgevoort, C., & Dijkman, R. (2015)](https://pure.tue.nl/ws/portalfiles/portal/47019808)\n",
    "* [Plotting Learning Curves (scikit-learn)](https://scikit-learn.org/stable/auto_examples/model_selection/plot_learning_curve.html)"
   ]
  },
  {
   "cell_type": "markdown",
   "id": "387260df",
   "metadata": {},
   "source": [
    "<!DOCTYPE html>\n",
    "<html>\n",
    "\n",
    "<body>\n",
    "\n",
    "<h1><center>Waste Classification</center></h1> \n",
    "<h4><center>Vasil Kichukov</center></h4>\n",
    "\n",
    "</body>\n",
    "</html>"
   ]
  },
  {
   "cell_type": "markdown",
   "id": "8874d856",
   "metadata": {},
   "source": [
    "## Abstract ##"
   ]
  },
  {
   "cell_type": "code",
   "execution_count": null,
   "id": "665c0ab1",
   "metadata": {},
   "outputs": [],
   "source": []
  },
  {
   "cell_type": "markdown",
   "id": "4f3cda82",
   "metadata": {},
   "source": [
    "### Table of Contents\n",
    "\n",
    "* [1. Dataset Representation](#Description)\n",
    "* [2. Reading, Tidying and Cleaning](#Reading)\n",
    "* [3. Understanding and Visualizing](#Visualizing)\n",
    "* [4. Outliers Detection](#Outliers)\n",
    "* [5. Preprocessing](#Preprocessing)\n",
    "* [6. Model Selection](#Model)\n",
    "    * [6.1. Logistic Regression](#Logistic)\n",
    "    * [6.2. K-Nearest Neighbors](#Neighbors)\n",
    "    * [6.3. Support Vector Machines](#SVM)\n",
    "    * [6.4. Random Forest](#Forest)\n",
    "    * [6.5. XGBoost Classifier](#XGBoost)\n",
    "* [7. Feature Engineering](#Engineering)\n",
    "    * [7.1. Remove attributes](#Remove)\n",
    "    * [7.2. Create attributes](#Create) \n",
    "    * [7.3. Test attributes](#Test)\n",
    "* [8. Final models](#Final)\n",
    "    * [8.1. Logistic Regression](#Logistic_two)\n",
    "    * [8.2. Support Vector Machines](#SVM_two)\n",
    "    * [8.3. Random Forest](#Forest_two)\n",
    "* [9. Conclusion](#Conclusion)\n",
    "* [10. References](#References)"
   ]
  },
  {
   "cell_type": "markdown",
   "id": "1b7e009b",
   "metadata": {},
   "source": [
    "## Introduction "
   ]
  },
  {
   "cell_type": "code",
   "execution_count": null,
   "id": "8f67617e",
   "metadata": {},
   "outputs": [],
   "source": []
  },
  {
   "cell_type": "markdown",
   "id": "afffd9cc",
   "metadata": {},
   "source": [
    "## 1. Dataset Representation <a class=\"anchor\" id=\"Description\"></a>"
   ]
  },
  {
   "cell_type": "markdown",
   "id": "5133836a",
   "metadata": {},
   "source": [
    "The dataset used in the current project contains 12 folders (classes):\n",
    "* *paper*\n",
    "* *cardboard*\n",
    "* *biological*\n",
    "* *metal*\n",
    "* *plastic*\n",
    "* *green-glass*\n",
    "* *brown-glass*\n",
    "* *white-glass*\n",
    "* *shoes*\n",
    "* *batteries*\n",
    "* *trash*"
   ]
  },
  {
   "cell_type": "markdown",
   "id": "589a3bad",
   "metadata": {},
   "source": [
    "## 2. Reading data <a class=\"anchor\" id=\"Reading\"></a>"
   ]
  },
  {
   "cell_type": "code",
   "execution_count": 53,
   "id": "6006dda6",
   "metadata": {},
   "outputs": [],
   "source": [
    "BASE_DIR = \"./data/garbage_classification/\"\n",
    "NUM_CLASSES = 12\n",
    "IMAGE_WIDTH = 256    \n",
    "IMAGE_HEIGHT = 256\n",
    "IMAGE_CHANNELS = 3\n",
    "IMAGE_SIZE = (IMAGE_WIDTH, IMAGE_HEIGHT)\n",
    "IMAGE_SIZE_CHANNELS = (IMAGE_WIDTH, IMAGE_HEIGHT, IMAGE_CHANNELS)\n",
    "\n",
    "BATCH_SIZE = 60"
   ]
  },
  {
   "cell_type": "markdown",
   "id": "3f730644",
   "metadata": {},
   "source": [
    "To reduce hardcoding, we'll keep everything in different variables so we can manipulate it more easily if needed."
   ]
  },
  {
   "cell_type": "code",
   "execution_count": 3,
   "id": "eab77594",
   "metadata": {},
   "outputs": [],
   "source": [
    "classes = os.listdir(BASE_DIR)\n",
    "folder_names = [os.path.join(BASE_DIR, class_name) for class_name in classes]"
   ]
  },
  {
   "cell_type": "markdown",
   "id": "3e94a7e6",
   "metadata": {},
   "source": [
    "The function \"os.listdir()\" retrieves a list of all directories within the directory specified by the BASE_DIR variable, in our case, these are the classes. For each class name, it appends the full path of the directory containing the images for that class to the folder_names list."
   ]
  },
  {
   "cell_type": "code",
   "execution_count": 4,
   "id": "be9c6e37",
   "metadata": {},
   "outputs": [],
   "source": [
    "all_files = []\n",
    "all_classes = []\n",
    "\n",
    "for folder_name, class_name in zip(folder_names, classes):\n",
    "    files = os.listdir(folder_name)\n",
    "    all_files.extend([os.path.join(folder_name, file) for file in files])\n",
    "    all_classes.extend([class_name] * len(files))"
   ]
  },
  {
   "cell_type": "markdown",
   "id": "e70fc432",
   "metadata": {},
   "source": [
    "We're going through each class folder to find all the image files inside. For each image found, we're saving its full path in a list all_files. At the same time, we're keeping track of which class each image belongs to by adding the class name to another list all_classes."
   ]
  },
  {
   "cell_type": "code",
   "execution_count": 5,
   "id": "9866a94d",
   "metadata": {},
   "outputs": [
    {
     "name": "stdout",
     "output_type": "stream",
     "text": [
      "15515 = 15515\n"
     ]
    }
   ],
   "source": [
    "print(len(all_files),\"=\",len(all_classes))"
   ]
  },
  {
   "cell_type": "code",
   "execution_count": 6,
   "id": "c1d656d9",
   "metadata": {},
   "outputs": [
    {
     "data": {
      "text/plain": [
       "{'battery': 0,\n",
       " 'biological': 1,\n",
       " 'brown-glass': 2,\n",
       " 'cardboard': 3,\n",
       " 'clothes': 4,\n",
       " 'green-glass': 5,\n",
       " 'metal': 6,\n",
       " 'paper': 7,\n",
       " 'plastic': 8,\n",
       " 'shoes': 9,\n",
       " 'trash': 10,\n",
       " 'white-glass': 11}"
      ]
     },
     "execution_count": 6,
     "metadata": {},
     "output_type": "execute_result"
    }
   ],
   "source": [
    "class_mapping = {class_name: class_id for (class_id, class_name) in list(enumerate(classes))}\n",
    "class_mapping"
   ]
  },
  {
   "cell_type": "code",
   "execution_count": null,
   "id": "438a2024",
   "metadata": {},
   "outputs": [],
   "source": [
    "all_class_ids = [class_mapping[os.path.basename(os.path.dirname(file_path))] for file_path in all_files]"
   ]
  },
  {
   "cell_type": "markdown",
   "id": "61a3b5bf",
   "metadata": {},
   "source": [
    "This code makes a dictionary called class_mapping. It matches each class name with a unique class ID. Then, it maps each file to its corresponding class ID based on the directory structure and the provided class_mapping."
   ]
  },
  {
   "cell_type": "markdown",
   "id": "e82d0bb6",
   "metadata": {},
   "source": [
    "## 3. Visualizing the data <a class=\"anchor\" id=\"Visualizing\"></a>"
   ]
  },
  {
   "cell_type": "code",
   "execution_count": 14,
   "id": "4b9ec120",
   "metadata": {},
   "outputs": [
    {
     "data": {
      "image/png": "[encoded data removed]",
      "text/plain": [
       "<Figure size 1080x216 with 10 Axes>"
      ]
     },
     "metadata": {
      "needs_background": "light"
     },
     "output_type": "display_data"
    }
   ],
   "source": [
    "num_samples = 10\n",
    "random_indices = random.sample(range(len(all_files)), num_samples)\n",
    "fig, axes = plt.subplots(1, num_samples, figsize=(15, 3))\n",
    "\n",
    "for i, idx in enumerate(random_indices):\n",
    "    img_path = all_files[idx]\n",
    "    img = plt.imread(img_path)\n",
    "    axes[i].imshow(img)\n",
    "    axes[i].set_title(all_classes[idx])\n",
    "    axes[i].axis('off')\n",
    "\n",
    "plt.show()"
   ]
  },
  {
   "cell_type": "code",
   "execution_count": 15,
   "id": "1d5508d8",
   "metadata": {},
   "outputs": [
    {
     "data": {
      "image/png": "[encoded data removed]",
      "text/plain": [
       "<Figure size 1080x360 with 1 Axes>"
      ]
     },
     "metadata": {
      "needs_background": "light"
     },
     "output_type": "display_data"
    }
   ],
   "source": [
    "class_counts = {class_name: all_classes.count(class_name) for class_name in set(all_classes)}\n",
    "sorted_class_counts = {k: v for k, v in sorted(class_counts.items(), key=lambda item: item[1])}\n",
    "\n",
    "class_names = list(sorted_class_counts.keys())\n",
    "counts = list(sorted_class_counts.values())\n",
    "\n",
    "plt.figure(figsize=(15, 5))\n",
    "plt.bar(class_names, counts, color='green')\n",
    "plt.xlabel('Class Name', fontsize=15)\n",
    "plt.ylabel('Number of Images', fontsize=15)\n",
    "plt.title('Class Distribution', fontsize=20)\n",
    "plt.grid(axis='y')\n",
    "plt.show()"
   ]
  },
  {
   "cell_type": "markdown",
   "id": "9e2efa3a",
   "metadata": {},
   "source": [
    "In the bar chart above, \"clothes\" have 5325 samples, and \"shoes\" have 1977 samples. These two classes contain almost 50% of our data. The other classes are balanced, varying between 600-1000 classes."
   ]
  },
  {
   "cell_type": "markdown",
   "id": "2eea1618",
   "metadata": {},
   "source": [
    "## 4. Preprocessing <a class=\"anchor\" id=\"Preprocessing\"></a>"
   ]
  },
  {
   "cell_type": "code",
   "execution_count": null,
   "id": "0102827e",
   "metadata": {},
   "outputs": [],
   "source": [
    "class_to_files = defaultdict(list)\n",
    "for file_path, class_id in zip(all_files, all_class_ids):\n",
    "    class_to_files[class_id].append(file_path)"
   ]
  },
  {
   "cell_type": "code",
   "execution_count": null,
   "id": "1c9e21f5",
   "metadata": {},
   "outputs": [],
   "source": [
    "train_fraction = 0.8\n",
    "test_fraction = 0.1\n",
    "val_fraction = 0.1"
   ]
  },
  {
   "cell_type": "code",
   "execution_count": null,
   "id": "5d309adc",
   "metadata": {},
   "outputs": [],
   "source": [
    "train_files = [] \n",
    "test_files = []  \n",
    "val_files = []\n",
    "\n",
    "train_classes = []\n",
    "test_classes = []\n",
    "val_classes = []"
   ]
  },
  {
   "cell_type": "code",
   "execution_count": null,
   "id": "ced7579f",
   "metadata": {},
   "outputs": [],
   "source": [
    "for class_id, files in class_to_files.items():\n",
    "    num_samples = len(files)\n",
    "    num_train = int(train_fraction * num_samples)\n",
    "    num_test = int(test_fraction * num_samples)\n",
    "    \n",
    "    train_files.extend(files[:num_train])\n",
    "    test_files.extend(files[num_train:num_train+num_test])\n",
    "    val_files.extend(files[num_train+num_test:])\n",
    "    \n",
    "    train_classes.extend([class_id] * num_train)\n",
    "    test_classes.extend([class_id] * num_test)\n",
    "    val_classes.extend([class_id] * (num_samples - num_train - num_test))"
   ]
  },
  {
   "cell_type": "code",
   "execution_count": null,
   "id": "c2d4484d",
   "metadata": {},
   "outputs": [],
   "source": [
    "print(\"Number of training files:\", len(train_files))\n",
    "print(\"Number of testing files:\", len(test_files))\n",
    "print(\"Number of validation files:\", len(val_files))"
   ]
  },
  {
   "cell_type": "code",
   "execution_count": 10,
   "id": "ecea00b7",
   "metadata": {},
   "outputs": [
    {
     "name": "stdout",
     "output_type": "stream",
     "text": [
      "Number of training files: 12409\n",
      "Number of testing files: 1545\n",
      "Number of validation files: 1561\n"
     ]
    }
   ],
   "source": [
    "class_to_files = defaultdict(list)\n",
    "for file_path, class_id in zip(all_files, all_class_ids):\n",
    "    class_to_files[class_id].append(file_path)\n",
    "\n",
    "# Define proportions for train, test, and validation\n",
    "train_fraction = 0.8\n",
    "test_fraction = 0.1\n",
    "val_fraction = 0.1\n",
    "\n",
    "# Split files for each class into train, test, and validation sets\n",
    "train_files, test_files, val_files = [], [], []\n",
    "train_classes, test_classes, val_classes = [], [], []\n",
    "\n",
    "for class_id, files in class_to_files.items():\n",
    "    num_samples = len(files)\n",
    "    num_train = int(train_fraction * num_samples)\n",
    "    num_test = int(test_fraction * num_samples)\n",
    "    \n",
    "    train_files.extend(files[:num_train])\n",
    "    test_files.extend(files[num_train:num_train+num_test])\n",
    "    val_files.extend(files[num_train+num_test:])\n",
    "    \n",
    "    # Track class labels for each set\n",
    "    train_classes.extend([class_id] * num_train)\n",
    "    test_classes.extend([class_id] * num_test)\n",
    "    val_classes.extend([class_id] * (num_samples - num_train - num_test))\n",
    "\n",
    "# Print the number of files and classes in each set\n",
    "print(\"Number of training files:\", len(train_files))\n",
    "print(\"Number of testing files:\", len(test_files))\n",
    "print(\"Number of validation files:\", len(val_files))"
   ]
  },
  {
   "cell_type": "code",
   "execution_count": null,
   "id": "268c44cb",
   "metadata": {},
   "outputs": [],
   "source": [
    "def count_labels(files):\n",
    "    label_counts = defaultdict(int)\n",
    "    for file_path in files:\n",
    "        class_name = os.path.basename(os.path.dirname(file_path))\n",
    "        label_counts[class_name] += 1\n",
    "    return label_counts"
   ]
  },
  {
   "cell_type": "code",
   "execution_count": null,
   "id": "ac31e6bb",
   "metadata": {},
   "outputs": [],
   "source": [
    "train_label_counts = count_labels(train_files)\n",
    "test_label_counts = count_labels(test_files)\n",
    "val_label_counts = count_labels(val_files)\n",
    "\n",
    "print(\"Training Set Label Counts:\")\n",
    "for label, count in train_label_counts.items():\n",
    "    print(f\"{label}: {count}\")\n",
    "\n",
    "print(\"\\nTesting Set Label Counts:\")\n",
    "for label, count in test_label_counts.items():\n",
    "    print(f\"{label}: {count}\")\n",
    "\n",
    "print(\"\\nValidation Set Label Counts:\")\n",
    "for label, count in val_label_counts.items():\n",
    "    print(f\"{label}: {count}\")"
   ]
  },
  {
   "cell_type": "code",
   "execution_count": null,
   "id": "c14abef8",
   "metadata": {},
   "outputs": [],
   "source": []
  },
  {
   "cell_type": "code",
   "execution_count": 11,
   "id": "04cb4517",
   "metadata": {},
   "outputs": [
    {
     "name": "stdout",
     "output_type": "stream",
     "text": [
      "Training Set Label Counts:\n",
      "battery: 756\n",
      "biological: 788\n",
      "brown-glass: 485\n",
      "cardboard: 712\n",
      "clothes: 4260\n",
      "green-glass: 503\n",
      "metal: 615\n",
      "paper: 840\n",
      "plastic: 692\n",
      "shoes: 1581\n",
      "trash: 557\n",
      "white-glass: 620\n",
      "\n",
      "Testing Set Label Counts:\n",
      "battery: 94\n",
      "biological: 98\n",
      "brown-glass: 60\n",
      "cardboard: 89\n",
      "clothes: 532\n",
      "green-glass: 62\n",
      "metal: 76\n",
      "paper: 105\n",
      "plastic: 86\n",
      "shoes: 197\n",
      "trash: 69\n",
      "white-glass: 77\n",
      "\n",
      "Validation Set Label Counts:\n",
      "battery: 95\n",
      "biological: 99\n",
      "brown-glass: 62\n",
      "cardboard: 90\n",
      "clothes: 533\n",
      "green-glass: 64\n",
      "metal: 78\n",
      "paper: 105\n",
      "plastic: 87\n",
      "shoes: 199\n",
      "trash: 71\n",
      "white-glass: 78\n"
     ]
    }
   ],
   "source": [
    "# Define a function to count occurrences of each label in a list of files\n",
    "def count_labels(files):\n",
    "    label_counts = defaultdict(int)\n",
    "    for file_path in files:\n",
    "        class_name = os.path.basename(os.path.dirname(file_path))\n",
    "        label_counts[class_name] += 1\n",
    "    return label_counts\n",
    "\n",
    "# Count labels in each set\n",
    "train_label_counts = count_labels(train_files)\n",
    "test_label_counts = count_labels(test_files)\n",
    "val_label_counts = count_labels(val_files)\n",
    "\n",
    "# Print label counts for each set\n",
    "print(\"Training Set Label Counts:\")\n",
    "for label, count in train_label_counts.items():\n",
    "    print(f\"{label}: {count}\")\n",
    "\n",
    "print(\"\\nTesting Set Label Counts:\")\n",
    "for label, count in test_label_counts.items():\n",
    "    print(f\"{label}: {count}\")\n",
    "\n",
    "print(\"\\nValidation Set Label Counts:\")\n",
    "for label, count in val_label_counts.items():\n",
    "    print(f\"{label}: {count}\")\n"
   ]
  },
  {
   "cell_type": "code",
   "execution_count": 12,
   "id": "f02ba7e0",
   "metadata": {},
   "outputs": [],
   "source": [
    "def preprocess_image(image_filename, image_class):\n",
    "    image_file = tf.io.read_file(image_filename)\n",
    "    image = tf.image.decode_jpeg(image_file)\n",
    "    image_scaled = tf.cast(image, float) / 255.0\n",
    "    image_resized = tf.image.resize(image_scaled, IMAGE_SIZE)\n",
    "    \n",
    "    return image_resized, image_class"
   ]
  },
  {
   "cell_type": "markdown",
   "id": "f5a90c27",
   "metadata": {},
   "source": [
    "This function reads an image file, decodes it into a tensor, scales its pixel values to the range [0, 1], resizes it to a predefined size, and returns the resized image tensor along with its corresponding class label."
   ]
  },
  {
   "cell_type": "code",
   "execution_count": 13,
   "id": "87594826",
   "metadata": {},
   "outputs": [],
   "source": [
    "def create_training_dataset(files, class_ids):\n",
    "    dataset = tf.data.Dataset.from_tensor_slices((files, class_ids))\n",
    "    dataset_shuffled = dataset.shuffle(len(files), seed=50)\n",
    "    dataset_preprocessed = dataset_shuffled.map(preprocess_image)\n",
    "    dataset_batched = dataset_preprocessed.batch(BATCH_SIZE).repeat()\n",
    "    \n",
    "    return dataset_batched"
   ]
  },
  {
   "cell_type": "markdown",
   "id": "a73e1fb2",
   "metadata": {},
   "source": [
    "We are creating a TensorFlow dataset from a list of image file paths and their corresponding class IDs. It shuffles the dataset, applies a preprocessing function to each image, batches the data for training, and repeats the dataset indefinitely for multiple epochs."
   ]
  },
  {
   "cell_type": "code",
   "execution_count": null,
   "id": "ccf122e6",
   "metadata": {},
   "outputs": [],
   "source": [
    "train_dataset = create_training_dataset(train_files, train_classes)\n",
    "val_dataset = create_training_dataset(val_files, val_classes)\n",
    "test_dataset = create_training_dataset(test_files, test_classes)"
   ]
  },
  {
   "cell_type": "markdown",
   "id": "fc1d2f87",
   "metadata": {},
   "source": [
    "## 6. Model Selection <a class=\"anchor\" id=\"Model\"></a>"
   ]
  },
  {
   "cell_type": "code",
   "execution_count": 31,
   "id": "c3a89679",
   "metadata": {},
   "outputs": [],
   "source": [
    "train_dataset = create_training_dataset(train_files, train_classes)"
   ]
  },
  {
   "cell_type": "code",
   "execution_count": 35,
   "id": "91814f91",
   "metadata": {},
   "outputs": [
    {
     "name": "stdout",
     "output_type": "stream",
     "text": [
      "(4, 256, 256, 3)\n",
      "(4,)\n",
      "[ 9  4 11  1]\n",
      "[[[[0.11499694 0.09931067 0.08754596]\n",
      "   [0.10185356 0.08616728 0.07440258]\n",
      "   [0.09803922 0.08235294 0.07058824]\n",
      "   ...\n",
      "   [0.25710785 0.24142157 0.22965686]\n",
      "   [0.26758534 0.25189906 0.24013433]\n",
      "   [0.25208336 0.23639706 0.22463235]]\n",
      "\n",
      "  [[0.11830577 0.10261949 0.09085479]\n",
      "   [0.10516238 0.08947611 0.0777114 ]\n",
      "   [0.10134804 0.08566177 0.07389706]\n",
      "   ...\n",
      "   [0.26605394 0.25036767 0.23860294]\n",
      "   [0.27378985 0.25810358 0.24633884]\n",
      "   [0.2582108  0.2425245  0.2307598 ]]\n",
      "\n",
      "  [[0.12051164 0.10482537 0.09306066]\n",
      "   [0.10736826 0.09168199 0.07991728]\n",
      "   [0.10355392 0.08786765 0.07610294]\n",
      "   ...\n",
      "   [0.26655945 0.25087318 0.23910846]\n",
      "   [0.26352397 0.24783769 0.23607297]\n",
      "   [0.25330883 0.23762254 0.22585784]]\n",
      "\n",
      "  ...\n",
      "\n",
      "  [[0.22937012 0.17446816 0.12348777]\n",
      "   [0.2799527  0.22505075 0.17407036]\n",
      "   [0.32423982 0.26933786 0.21835746]\n",
      "   ...\n",
      "   [0.29480413 0.22421588 0.17715706]\n",
      "   [0.3027114  0.23212317 0.18506435]\n",
      "   [0.30416667 0.23357843 0.18651961]]\n",
      "\n",
      "  [[0.24044117 0.18553922 0.13455883]\n",
      "   [0.2621295  0.20722753 0.15624714]\n",
      "   [0.31998602 0.26508406 0.21410368]\n",
      "   ...\n",
      "   [0.26625785 0.19566962 0.1486108 ]\n",
      "   [0.27259785 0.20200962 0.1549508 ]\n",
      "   [0.28529412 0.21470588 0.16764706]]\n",
      "\n",
      "  [[0.24987747 0.1949755  0.1439951 ]\n",
      "   [0.25517675 0.20027478 0.14929439]\n",
      "   [0.2813965  0.22649454 0.17551415]\n",
      "   ...\n",
      "   [0.28441668 0.21382841 0.1667696 ]\n",
      "   [0.26574802 0.1951598  0.14810097]\n",
      "   [0.2644608  0.19387256 0.14681374]]]\n",
      "\n",
      "\n",
      " [[[0.38436735 0.13730852 0.06672029]\n",
      "   [0.39662224 0.14956343 0.07897519]\n",
      "   [0.41064647 0.16358763 0.09299939]\n",
      "   ...\n",
      "   [0.34761918 0.12408975 0.05742307]\n",
      "   [0.35833335 0.13480392 0.06813726]\n",
      "   [0.33255187 0.10902243 0.04235577]]\n",
      "\n",
      "  [[0.3865656  0.13950674 0.0689185 ]\n",
      "   [0.39600185 0.14894302 0.07835478]\n",
      "   [0.40861315 0.16155432 0.09096608]\n",
      "   ...\n",
      "   [0.3491917  0.1256623  0.05899563]\n",
      "   [0.35542065 0.13189124 0.06522457]\n",
      "   [0.3391774  0.11564798 0.04898131]]\n",
      "\n",
      "  [[0.40402114 0.15696232 0.08637408]\n",
      "   [0.41261083 0.165552   0.09496376]\n",
      "   [0.4201976  0.1731388  0.10255055]\n",
      "   ...\n",
      "   [0.35645515 0.12508258 0.06233748]\n",
      "   [0.35625002 0.12487746 0.06213235]\n",
      "   [0.35222003 0.12084746 0.05810236]]\n",
      "\n",
      "  ...\n",
      "\n",
      "  [[0.7921569  0.4        0.34117648]\n",
      "   [0.79131025 0.3991534  0.3403299 ]\n",
      "   [0.7889646  0.39680773 0.3379842 ]\n",
      "   ...\n",
      "   [0.90287226 0.5969899  0.51855856]\n",
      "   [0.90287226 0.5969899  0.51855856]\n",
      "   [0.90287226 0.5969899  0.51855856]]\n",
      "\n",
      "  [[0.7927634  0.40060654 0.34178302]\n",
      "   [0.7853226  0.39316574 0.3343422 ]\n",
      "   [0.7790058  0.38684896 0.32802543]\n",
      "   ...\n",
      "   [0.8862745  0.5803922  0.5019608 ]\n",
      "   [0.88235295 0.5764706  0.49803922]\n",
      "   [0.88235295 0.5764706  0.49803922]]\n",
      "\n",
      "  [[0.79083157 0.3986747  0.33985117]\n",
      "   [0.78283405 0.39067718 0.33185366]\n",
      "   [0.77913487 0.38697797 0.32815444]\n",
      "   ...\n",
      "   [0.887708   0.5818257  0.5033943 ]\n",
      "   [0.8859981  0.58011574 0.50168437]\n",
      "   [0.8829583  0.57707596 0.49864456]]]\n",
      "\n",
      "\n",
      " [[[0.16078432 0.14901961 0.12941177]\n",
      "   [0.17077206 0.15900736 0.13939951]\n",
      "   [0.18265025 0.17088555 0.1512777 ]\n",
      "   ...\n",
      "   [0.4220846  0.38286892 0.3358101 ]\n",
      "   [0.43134958 0.3921339  0.34507507]\n",
      "   [0.43134958 0.3921339  0.34507507]]\n",
      "\n",
      "  [[0.16078432 0.14901961 0.12941177]\n",
      "   [0.17072818 0.15896347 0.13935563]\n",
      "   [0.1810704  0.1693057  0.14969786]\n",
      "   ...\n",
      "   [0.42126226 0.38204658 0.33498776]\n",
      "   [0.42745098 0.3882353  0.34117648]\n",
      "   [0.42745098 0.3882353  0.34117648]]\n",
      "\n",
      "  [[0.16078432 0.14901961 0.12941177]\n",
      "   [0.16827513 0.15651043 0.13690259]\n",
      "   [0.17869242 0.16692771 0.14731987]\n",
      "   ...\n",
      "   [0.4211927  0.38197702 0.3349182 ]\n",
      "   [0.4273361  0.3881204  0.3410616 ]\n",
      "   [0.4273361  0.3881204  0.3410616 ]]\n",
      "\n",
      "  ...\n",
      "\n",
      "  [[0.2547871  0.2391008  0.19204198]\n",
      "   [0.25721085 0.24152459 0.19446577]\n",
      "   [0.2586391  0.24295281 0.19589399]\n",
      "   ...\n",
      "   [0.23450458 0.21886364 0.18356952]\n",
      "   [0.2391008  0.22341453 0.18812041]\n",
      "   [0.2391008  0.22341453 0.18812041]]\n",
      "\n",
      "  [[0.25490198 0.23921569 0.19215687]\n",
      "   [0.2573989  0.24171263 0.19465381]\n",
      "   [0.25882354 0.24313726 0.19607843]\n",
      "   ...\n",
      "   [0.23457414 0.21888787 0.18359375]\n",
      "   [0.23921569 0.22352941 0.1882353 ]\n",
      "   [0.23921569 0.22352941 0.1882353 ]]\n",
      "\n",
      "  [[0.25490198 0.23921569 0.19215687]\n",
      "   [0.2549166  0.23923032 0.1921715 ]\n",
      "   [0.25646308 0.24077679 0.19371797]\n",
      "   ...\n",
      "   [0.23375177 0.2180655  0.18277138]\n",
      "   [0.2353171  0.21963082 0.1843367 ]\n",
      "   [0.2353171  0.21963082 0.1843367 ]]]\n",
      "\n",
      "\n",
      " [[[0.68260574 0.6159391  0.553194  ]\n",
      "   [0.672618   0.6059513  0.53821236]\n",
      "   [0.6715791  0.60491246 0.5343061 ]\n",
      "   ...\n",
      "   [0.78751534 0.76006436 0.7365071 ]\n",
      "   [0.7893076  0.7661305  0.73829794]\n",
      "   [0.78431374 0.76862746 0.73333335]]\n",
      "\n",
      "  [[0.7262485  0.659444   0.5966299 ]\n",
      "   [0.71634847 0.64958787 0.5817361 ]\n",
      "   [0.71840876 0.6516732  0.5778527 ]\n",
      "   ...\n",
      "   [0.78751534 0.76006436 0.7317862 ]\n",
      "   [0.78928256 0.7661055  0.7333083 ]\n",
      "   [0.7842448  0.7685585  0.7332644 ]]\n",
      "\n",
      "  [[0.76851255 0.693773   0.62664676]\n",
      "   [0.7639576  0.6918613  0.6173905 ]\n",
      "   [0.7672302  0.6965513  0.6147958 ]\n",
      "   ...\n",
      "   [0.7874911  0.7600401  0.73176193]\n",
      "   [0.78780985 0.76463276 0.7318356 ]\n",
      "   [0.78039217 0.7647059  0.7294118 ]]\n",
      "\n",
      "  ...\n",
      "\n",
      "  [[0.565625   0.4944623  0.40910694]\n",
      "   [0.5675368  0.496374   0.41101864]\n",
      "   [0.5744083  0.49874    0.41789016]\n",
      "   ...\n",
      "   [0.8699008  0.84278685 0.74334085]\n",
      "   [0.84532094 0.8302168  0.76576287]\n",
      "   [0.8426777  0.83506435 0.7882353 ]]\n",
      "\n",
      "  [[0.5608533  0.49797028 0.40013787]\n",
      "   [0.56335026 0.5004672  0.4026348 ]\n",
      "   [0.5694436  0.503439   0.41024816]\n",
      "   ...\n",
      "   [0.87026656 0.8414028  0.74973804]\n",
      "   [0.8456342  0.8303003  0.76576287]\n",
      "   [0.84313726 0.8352941  0.7882353 ]]\n",
      "\n",
      "  [[0.5646829  0.5019378  0.4038986 ]\n",
      "   [0.56717986 0.50443476 0.40639552]\n",
      "   [0.57170796 0.5058685  0.41247076]\n",
      "   ...\n",
      "   [0.8726271  0.8437361  0.75220734]\n",
      "   [0.8495328  0.83419883 0.7682452 ]\n",
      "   [0.8470358  0.8391927  0.7882353 ]]]]\n"
     ]
    }
   ],
   "source": [
    "for el in train_dataset.take(1):\n",
    "    print(s[0].numpy().shape)\n",
    "    print(s[1].numpy().shape)\n",
    "    print(el[1].numpy())\n",
    "    print(el[0].numpy())"
   ]
  },
  {
   "cell_type": "code",
   "execution_count": 45,
   "id": "5a0eb9fd",
   "metadata": {},
   "outputs": [
    {
     "name": "stdout",
     "output_type": "stream",
     "text": [
      "Model: \"sequential_1\"\n",
      "_________________________________________________________________\n",
      " Layer (type)                Output Shape              Param #   \n",
      "=================================================================\n",
      " conv2d_6 (Conv2D)           (None, 254, 254, 32)      896       \n",
      "                                                                 \n",
      " conv2d_7 (Conv2D)           (None, 252, 252, 64)      18496     \n",
      "                                                                 \n",
      " max_pooling2d_3 (MaxPooling  (None, 126, 126, 64)     0         \n",
      " 2D)                                                             \n",
      "                                                                 \n",
      " dropout_3 (Dropout)         (None, 126, 126, 64)      0         \n",
      "                                                                 \n",
      " flatten_3 (Flatten)         (None, 1016064)           0         \n",
      "                                                                 \n",
      " dense_6 (Dense)             (None, 250)               254016250 \n",
      "                                                                 \n",
      " dense_7 (Dense)             (None, 12)                3012      \n",
      "                                                                 \n",
      "=================================================================\n",
      "Total params: 254,038,654\n",
      "Trainable params: 254,038,654\n",
      "Non-trainable params: 0\n",
      "_________________________________________________________________\n"
     ]
    }
   ],
   "source": [
    "import tensorflow as tf\n",
    "from tensorflow.keras import layers, models\n",
    "\n",
    "# Define the CNN model\n",
    "def create_cnn_model(input_shape, num_classes):\n",
    "    model = models.Sequential([\n",
    "        layers.Conv2D(32, (3, 3), activation='relu', input_shape=input_shape),\n",
    "        layers.Conv2D(64, (3, 3), activation='relu'),\n",
    "        layers.MaxPooling2D((2, 2)),\n",
    "        layers.Dropout(0.5),\n",
    "        layers.Flatten(),\n",
    "        layers.Dense(250, activation='relu'),\n",
    "        layers.Dense(num_classes, activation='softmax')\n",
    "    ])\n",
    "    return model\n",
    "\n",
    "# Define input shape and number of classes\n",
    "input_shape = IMAGE_SIZE_CHANNELS\n",
    "num_classes = NUM_CLASSES\n",
    "\n",
    "# Create the CNN model\n",
    "cnn_model = create_cnn_model(input_shape, num_classes)\n",
    "\n",
    "# Compile the model\n",
    "cnn_model.compile(optimizer='adam',\n",
    "                  loss='sparse_categorical_crossentropy',\n",
    "                  metrics=['accuracy'])\n",
    "\n",
    "# Display model summary\n",
    "cnn_model.summary()\n"
   ]
  },
  {
   "cell_type": "code",
   "execution_count": 49,
   "id": "3d361f7f",
   "metadata": {},
   "outputs": [],
   "source": [
    "early_stop = EarlyStopping(patience=2, verbose=1, monitor='val_accuracy', mode='max', min_delta=0.001, restore_best_weights=True)\n",
    "callbacks = [early_stop]"
   ]
  },
  {
   "cell_type": "code",
   "execution_count": 50,
   "id": "df26cc83",
   "metadata": {},
   "outputs": [
    {
     "name": "stdout",
     "output_type": "stream",
     "text": [
      "Epoch 1/10\n",
      "620/620 [==============================] - 1605s 3s/step - loss: 1.4952 - accuracy: 0.5167 - val_loss: 1.4341 - val_accuracy: 0.5442\n",
      "Epoch 2/10\n",
      "620/620 [==============================] - 1593s 3s/step - loss: 0.8382 - accuracy: 0.7345 - val_loss: 1.2584 - val_accuracy: 0.6282\n",
      "Epoch 3/10\n",
      "620/620 [==============================] - 1618s 3s/step - loss: 0.3512 - accuracy: 0.8930 - val_loss: 1.6420 - val_accuracy: 0.6186\n",
      "Epoch 4/10\n",
      "620/620 [==============================] - ETA: 0s - loss: 0.1879 - accuracy: 0.9470Restoring model weights from the end of the best epoch: 2.\n",
      "620/620 [==============================] - 1618s 3s/step - loss: 0.1879 - accuracy: 0.9470 - val_loss: 1.8850 - val_accuracy: 0.6269\n",
      "Epoch 4: early stopping\n",
      "77/77 [==============================] - 24s 300ms/step - loss: 1.2244 - accuracy: 0.6396\n",
      "Test Accuracy: 0.6396104097366333\n"
     ]
    }
   ],
   "source": [
    "# Define training and validation datasets\n",
    "train_dataset = create_training_dataset(train_files, train_classes)\n",
    "val_dataset = create_training_dataset(val_files, val_classes)\n",
    "\n",
    "# Define number of steps per epoch\n",
    "train_steps_per_epoch = len(train_files) // BATCH_SIZE\n",
    "val_steps_per_epoch = len(val_files) // BATCH_SIZE\n",
    "\n",
    "# Train the model\n",
    "history = cnn_model.fit(train_dataset,\n",
    "                        steps_per_epoch=train_steps_per_epoch,\n",
    "                        epochs=10,\n",
    "                        validation_data=val_dataset,\n",
    "                        validation_steps=val_steps_per_epoch,\n",
    "                        callbacks=callbacks)\n",
    "\n",
    "# Evaluate the model on test dataset\n",
    "test_dataset = create_training_dataset(test_files, test_classes)\n",
    "test_loss, test_accuracy = cnn_model.evaluate(test_dataset, steps=len(test_files) // BATCH_SIZE)\n",
    "print(\"Test Accuracy:\", test_accuracy)\n"
   ]
  },
  {
   "cell_type": "code",
   "execution_count": 54,
   "id": "3a728f8a",
   "metadata": {},
   "outputs": [],
   "source": [
    "train_dataset = create_training_dataset(train_files, train_classes)\n",
    "val_dataset = create_training_dataset(val_files, val_classes)"
   ]
  },
  {
   "cell_type": "code",
   "execution_count": 55,
   "id": "85d2db7e",
   "metadata": {},
   "outputs": [],
   "source": [
    "train_steps_per_epoch = len(train_files) // BATCH_SIZE\n",
    "val_steps_per_epoch = len(val_files) // BATCH_SIZE"
   ]
  },
  {
   "cell_type": "code",
   "execution_count": null,
   "id": "165cff37",
   "metadata": {},
   "outputs": [
    {
     "name": "stdout",
     "output_type": "stream",
     "text": [
      "Epoch 1/10\n",
      "206/206 [==============================] - 1096s 5s/step - loss: 0.2667 - accuracy: 0.9231 - val_loss: 1.3541 - val_accuracy: 0.6583\n",
      "Epoch 2/10\n",
      "206/206 [==============================] - 1096s 5s/step - loss: 0.1276 - accuracy: 0.9643 - val_loss: 1.6505 - val_accuracy: 0.6603\n",
      "Epoch 3/10\n",
      "206/206 [==============================] - 1112s 5s/step - loss: 0.0641 - accuracy: 0.9838 - val_loss: 1.8567 - val_accuracy: 0.6692\n",
      "Epoch 4/10\n",
      "206/206 [==============================] - 1110s 5s/step - loss: 0.0350 - accuracy: 0.9915 - val_loss: 2.5744 - val_accuracy: 0.6378\n",
      "Epoch 5/10\n",
      " 98/206 [=============>................] - ETA: 9:18 - loss: 0.0215 - accuracy: 0.9957"
     ]
    }
   ],
   "source": [
    "history = cnn_model.fit(train_dataset,\n",
    "                        steps_per_epoch=train_steps_per_epoch,\n",
    "                        epochs=10,\n",
    "                        validation_data=val_dataset,\n",
    "                        validation_steps=val_steps_per_epoch,\n",
    "                        callbacks=callbacks)"
   ]
  },
  {
   "cell_type": "code",
   "execution_count": null,
   "id": "4e3a79c4",
   "metadata": {},
   "outputs": [],
   "source": [
    "test_dataset = create_training_dataset(test_files, test_classes)\n",
    "test_loss, test_accuracy = cnn_model.evaluate(test_dataset, steps=len(test_files) // BATCH_SIZE)\n",
    "print(\"Test Accuracy:\", test_accuracy)"
   ]
  },
  {
   "cell_type": "code",
   "execution_count": 42,
   "id": "07c52862",
   "metadata": {},
   "outputs": [
    {
     "data": {
      "text/plain": [
       "3102"
      ]
     },
     "execution_count": 42,
     "metadata": {},
     "output_type": "execute_result"
    }
   ],
   "source": [
    "len(train_files) // BATCH_SIZE"
   ]
  },
  {
   "cell_type": "code",
   "execution_count": 41,
   "id": "0563e270",
   "metadata": {},
   "outputs": [
    {
     "data": {
      "text/plain": [
       "4"
      ]
     },
     "execution_count": 41,
     "metadata": {},
     "output_type": "execute_result"
    }
   ],
   "source": [
    "BATCH_SIZE"
   ]
  },
  {
   "cell_type": "code",
   "execution_count": null,
   "id": "4d5a7f30",
   "metadata": {},
   "outputs": [],
   "source": []
  }
 ],
 "metadata": {
  "kernelspec": {
   "display_name": "Python 3 (ipykernel)",
   "language": "python",
   "name": "python3"
  },
  "language_info": {
   "codemirror_mode": {
    "name": "ipython",
    "version": 3
   },
   "file_extension": ".py",
   "mimetype": "text/x-python",
   "name": "python",
   "nbconvert_exporter": "python",
   "pygments_lexer": "ipython3",
   "version": "3.9.13"
  }
 },
 "nbformat": 4,
 "nbformat_minor": 5
}
