{
 "cells": [
  {
   "cell_type": "code",
   "execution_count": 1,
   "id": "c16a36da",
   "metadata": {},
   "outputs": [],
   "source": [
    "import numpy as np \n",
    "import pandas as pd \n",
    "import matplotlib.pyplot as plt\n",
    "\n",
    "import os\n",
    "import cv2\n",
    "import random\n",
    "from PIL import Image\n",
    "\n",
    "from collections import defaultdict\n",
    "from matplotlib import pyplot as plt\n",
    "from tensorflow.keras.models import Model\n",
    "from tensorflow.keras.preprocessing import image\n",
    "from tensorflow.keras.preprocessing.image import ImageDataGenerator\n",
    "from tensorflow.keras.models import Sequential\n",
    "from tensorflow.keras.callbacks import EarlyStopping\n",
    "from tensorflow.keras.layers import Input, Dense, Dropout, Flatten, Conv2D, MaxPool2D, BatchNormalization,MaxPooling2D,BatchNormalization,\\\n",
    "                        Permute, TimeDistributed, GlobalAveragePooling2D, SeparableConv2D,\\\n",
    "ZeroPadding2D, Convolution2D, ZeroPadding2D, Conv2DTranspose,ReLU, UpSampling2D, Concatenate, Conv2DTranspose\n",
    "\n",
    "import tensorflow as tf \n",
    "from tensorflow.io import read_file\n",
    "from tensorflow.io import decode_jpeg\n"
   ]
  },
  {
   "cell_type": "markdown",
   "id": "6d2f2477",
   "metadata": {},
   "source": [
    "## 10. References <a class=\"anchor\" id=\"References\"></a>"
   ]
  },
  {
   "cell_type": "markdown",
   "id": "2cc3e2ee",
   "metadata": {},
   "source": [
    "* [Dataset: Garbage Classification (12 classes)](https://www.kaggle.com/datasets/mostafaabla/garbage-classification)\n",
    "* [CNN Model: Trash Classification](https://www.researchgate.net/publication/346937517_Trash_Classification_Classifying_garbage_using_Deep_Learning)\n",
    "* [Eurostat: European household waste collection](https://ec.europa.eu/eurostat/statistics-explained/index.php?title=Waste_statistics)\n",
    "* [Deep learning-based waste detection](https://www.sciencedirect.com/science/article/pii/S0956053X21006474)\n",
    "* [Waste Classification for Sustainable Development](https://www.mdpi.com/2071-1050/14/12/7222)\n",
    "* [Waste Management](https://journals.iium.edu.my/kict/index.php/IJPCC/article/view/165)"
   ]
  },
  {
   "cell_type": "markdown",
   "id": "a0ba829c",
   "metadata": {},
   "source": [
    "<!DOCTYPE html>\n",
    "<html>\n",
    "\n",
    "<body>\n",
    "\n",
    "<h1><center>Waste Classification</center></h1> \n",
    "<h4><center>Vasil Kichukov</center></h4>\n",
    "\n",
    "</body>\n",
    "</html>"
   ]
  },
  {
   "cell_type": "markdown",
   "id": "8406ae61",
   "metadata": {},
   "source": [
    "## Abstract ##"
   ]
  },
  {
   "cell_type": "markdown",
   "id": "8d3c0701",
   "metadata": {},
   "source": [
    "The proper handling of waste is one of the biggest challenges of modern society (Malik & et.al, 2022), as its increasing production poses significant threat to the environment. To address this challenge, prioritizing waste sorting at the initial stage is crucial to maximize recyclable items and minimize irreversible consequences. Despite there are many unprofessional workers being accountable for this task their efforts seem to be time-consuming and less effective as the world created nearly one and a half billion of tons of civil waste every year (Sami, Amin & Hassan, 2020). As per estimation of the World Bank that figure is predicted to hit 2.2 billion of tons by 2025. Hence, people should prioritize the efficacy of forthcoming action plans, given that recycling holds the potential to result in great benefits such as saving 60 million barrels of oil annually and reducing landfill necessities by up to 20%.  Given these needs and the most efficient techniques proposed by researchers so far (Malik & et.al, 2022), the current project aims to develop a working model based on neural networks that will contribute to the more efficient waste management."
   ]
  },
  {
   "cell_type": "markdown",
   "id": "82d26a89",
   "metadata": {},
   "source": [
    "### Table of Contents\n",
    "\n",
    "* [1. Dataset Representation](#Description)\n",
    "* [2. Reading, Tidying and Cleaning](#Reading)\n",
    "* [3. Understanding and Visualizing](#Visualizing)\n",
    "* [4. Outliers Detection](#Outliers)\n",
    "* [5. Preprocessing](#Preprocessing)\n",
    "* [6. Model Selection](#Model)\n",
    "    * [6.1. Logistic Regression](#Logistic)\n",
    "    * [6.2. K-Nearest Neighbors](#Neighbors)\n",
    "    * [6.3. Support Vector Machines](#SVM)\n",
    "    * [6.4. Random Forest](#Forest)\n",
    "    * [6.5. XGBoost Classifier](#XGBoost)\n",
    "* [7. Feature Engineering](#Engineering)\n",
    "    * [7.1. Remove attributes](#Remove)\n",
    "    * [7.2. Create attributes](#Create) \n",
    "    * [7.3. Test attributes](#Test)\n",
    "* [8. Final models](#Final)\n",
    "    * [8.1. Logistic Regression](#Logistic_two)\n",
    "    * [8.2. Support Vector Machines](#SVM_two)\n",
    "    * [8.3. Random Forest](#Forest_two)\n",
    "* [9. Conclusion](#Conclusion)\n",
    "* [10. References](#References)"
   ]
  },
  {
   "cell_type": "markdown",
   "id": "3992b71e",
   "metadata": {},
   "source": [
    "## Introduction "
   ]
  },
  {
   "cell_type": "markdown",
   "id": "79e9c6cb",
   "metadata": {},
   "source": [
    "The escalating challenge of garbage disposal results from the widespread production of disposable goods across industries, intensifying the waste crisis. Items like plastic-bottled drinking water and takeaway coffee cups exemplify the diverse array of disposable products exacerbating the waste issue (Malik & et.al, 2022. Urgency for effective waste management arises from the crucial need for ecological balance, disrupted significantly over the past two centuries due to human activities.\n",
    "According to Eurostat report 5.2 tonnes of waste were generated per EU inhabitant in 2018 (Eurosrat, 2018) while World Bank states that only 3.5% of global waste is recycled, while about 33% of garbage is thrown away openly without any preliminary classification (Majchrowska & etl.al, 2022). It could be argued that this waste includes diverse items, from cans and bottles to furniture, electronics, hazardous waste, organic waste, and fast fashion items. \n",
    "In essence, embracing a stronger circular economy is not merely an option but a necessity. It offers a sustainable alternative that aligns with the urgent need to rethink our resource consumption and disposal patterns. The possibility of extending the life of plastic lies in its reintroduction into the economy, preventing its accumulation in the environment.Moreover, transitioning to a more robust circular economy is essential for effectively tackling hazardous waste, specifically batteries, thus ensuring protection against potential environmental harm.\n"
   ]
  },
  {
   "cell_type": "markdown",
   "id": "cff79d4f",
   "metadata": {},
   "source": [
    "## 1. Dataset Representation <a class=\"anchor\" id=\"Description\"></a>"
   ]
  },
  {
   "cell_type": "markdown",
   "id": "caafe896",
   "metadata": {},
   "source": [
    "Therefore, the ongoing project employs a diverse dataset featuring images across 12 distinct categories, showcasing a variety of waste materials. These categories span from typical paper and plastic to items linked to the growing concern of fast fashion, such as clothing and shoes, along with those suitable for composting as organic waste. Such datasets can broaden the potential for developing models proficient in categorizing recyclable waste, effectively tackling the challenges posed by the diverse nature of materials within the generated human waste. The dataset contains 12 folders (classes):\n",
    "* *paper*\n",
    "* *cardboard*\n",
    "* *biological*\n",
    "* *metal*\n",
    "* *plastic*\n",
    "* *green-glass*\n",
    "* *brown-glass*\n",
    "* *white-glass*\n",
    "* *shoes*\n",
    "* *batteries*\n",
    "* *trash*"
   ]
  },
  {
   "cell_type": "markdown",
   "id": "94caccd7",
   "metadata": {},
   "source": [
    "## 2. Reading data <a class=\"anchor\" id=\"Reading\"></a>"
   ]
  },
  {
   "cell_type": "code",
   "execution_count": 2,
   "id": "6006dda6",
   "metadata": {},
   "outputs": [],
   "source": [
    "BASE_DIR = \"./data/garbage_classification/\"\n",
    "NUM_CLASSES = 12\n",
    "IMAGE_WIDTH = 256    \n",
    "IMAGE_HEIGHT = 256\n",
    "IMAGE_CHANNELS = 3\n",
    "IMAGE_SIZE = (IMAGE_WIDTH, IMAGE_HEIGHT)\n",
    "IMAGE_SIZE_CHANNELS = (IMAGE_WIDTH, IMAGE_HEIGHT, IMAGE_CHANNELS)\n",
    "BOTTLENECK = (48,48,32)\n",
    "BATCH_SIZE = 12"
   ]
  },
  {
   "cell_type": "markdown",
   "id": "3f730644",
   "metadata": {},
   "source": [
    "To reduce hardcoding, we'll keep everything in different variables so we can manipulate it more easily if needed."
   ]
  },
  {
   "cell_type": "code",
   "execution_count": 3,
   "id": "eab77594",
   "metadata": {},
   "outputs": [],
   "source": [
    "classes = os.listdir(BASE_DIR)\n",
    "folder_names = [os.path.join(BASE_DIR, class_name) for class_name in classes]"
   ]
  },
  {
   "cell_type": "markdown",
   "id": "3e94a7e6",
   "metadata": {},
   "source": [
    "The function \"os.listdir()\" retrieves a list of all directories within the directory specified by the BASE_DIR variable, in our case, these are the classes. For each class name, it appends the full path of the directory containing the images for that class to the folder_names list."
   ]
  },
  {
   "cell_type": "code",
   "execution_count": 4,
   "id": "be9c6e37",
   "metadata": {},
   "outputs": [],
   "source": [
    "all_files = []\n",
    "all_classes = []\n",
    "\n",
    "for folder_name, class_name in zip(folder_names, classes):\n",
    "    files = os.listdir(folder_name)\n",
    "    all_files.extend([os.path.join(folder_name, file) for file in files])\n",
    "    all_classes.extend([class_name] * len(files))"
   ]
  },
  {
   "cell_type": "markdown",
   "id": "e70fc432",
   "metadata": {},
   "source": [
    "We're going through each class folder to find all the image files inside. For each image found, we're saving its full path in a list all_files. At the same time, we're keeping track of which class each image belongs to by adding the class name to another list all_classes."
   ]
  },
  {
   "cell_type": "code",
   "execution_count": 5,
   "id": "9866a94d",
   "metadata": {},
   "outputs": [
    {
     "name": "stdout",
     "output_type": "stream",
     "text": [
      "15515 = 15515\n"
     ]
    }
   ],
   "source": [
    "print(len(all_files),\"=\",len(all_classes))"
   ]
  },
  {
   "cell_type": "code",
   "execution_count": 6,
   "id": "c1d656d9",
   "metadata": {},
   "outputs": [
    {
     "data": {
      "text/plain": [
       "{'battery': 0,\n",
       " 'biological': 1,\n",
       " 'brown-glass': 2,\n",
       " 'cardboard': 3,\n",
       " 'clothes': 4,\n",
       " 'green-glass': 5,\n",
       " 'metal': 6,\n",
       " 'paper': 7,\n",
       " 'plastic': 8,\n",
       " 'shoes': 9,\n",
       " 'trash': 10,\n",
       " 'white-glass': 11}"
      ]
     },
     "execution_count": 6,
     "metadata": {},
     "output_type": "execute_result"
    }
   ],
   "source": [
    "class_mapping = {class_name: class_id for (class_id, class_name) in list(enumerate(classes))}\n",
    "class_mapping"
   ]
  },
  {
   "cell_type": "code",
   "execution_count": 7,
   "id": "438a2024",
   "metadata": {},
   "outputs": [],
   "source": [
    "all_class_ids = [class_mapping[os.path.basename(os.path.dirname(file_path))] for file_path in all_files]"
   ]
  },
  {
   "cell_type": "markdown",
   "id": "61a3b5bf",
   "metadata": {},
   "source": [
    "This code makes a dictionary called class_mapping. It matches each class name with a unique class ID. Then, it maps each file to its corresponding class ID based on the directory structure and the provided class_mapping."
   ]
  },
  {
   "cell_type": "markdown",
   "id": "539818bb",
   "metadata": {},
   "source": [
    "## 3. Visualizing the data <a class=\"anchor\" id=\"Visualizing\"></a>"
   ]
  },
  {
   "cell_type": "code",
   "execution_count": 8,
   "id": "4b9ec120",
   "metadata": {},
   "outputs": [
    {
     "data": {
      "image/png": "[encoded data removed]",
      "text/plain": [
       "<Figure size 1080x216 with 10 Axes>"
      ]
     },
     "metadata": {
      "needs_background": "light"
     },
     "output_type": "display_data"
    }
   ],
   "source": [
    "num_samples = 10\n",
    "random_indices = random.sample(range(len(all_files)), num_samples)\n",
    "fig, axes = plt.subplots(1, num_samples, figsize=(15, 3))\n",
    "\n",
    "for i, idx in enumerate(random_indices):\n",
    "    img_path = all_files[idx]\n",
    "    img = plt.imread(img_path)\n",
    "    axes[i].imshow(img)\n",
    "    axes[i].set_title(all_classes[idx])\n",
    "    axes[i].axis('off')\n",
    "\n",
    "plt.show()"
   ]
  },
  {
   "cell_type": "code",
   "execution_count": 9,
   "id": "1d5508d8",
   "metadata": {},
   "outputs": [
    {
     "data": {
      "image/png": "[encoded data removed]",
      "text/plain": [
       "<Figure size 1080x360 with 1 Axes>"
      ]
     },
     "metadata": {
      "needs_background": "light"
     },
     "output_type": "display_data"
    }
   ],
   "source": [
    "class_counts = {class_name: all_classes.count(class_name) for class_name in set(all_classes)}\n",
    "sorted_class_counts = {k: v for k, v in sorted(class_counts.items(), key=lambda item: item[1])}\n",
    "\n",
    "class_names = list(sorted_class_counts.keys())\n",
    "counts = list(sorted_class_counts.values())\n",
    "\n",
    "plt.figure(figsize=(15, 5))\n",
    "plt.bar(class_names, counts, color='green')\n",
    "plt.xlabel('Class Name', fontsize=15)\n",
    "plt.ylabel('Number of Images', fontsize=15)\n",
    "plt.title('Class Distribution', fontsize=20)\n",
    "plt.grid(axis='y')\n",
    "plt.show()"
   ]
  },
  {
   "cell_type": "markdown",
   "id": "daee0f7d",
   "metadata": {},
   "source": [
    "In the bar chart above, \"clothes\" have 5325 samples, and \"shoes\" have 1977 samples. These two classes contain almost 50% of our data. The other classes are balanced, varying between 600-1000 classes."
   ]
  },
  {
   "cell_type": "markdown",
   "id": "c5c83414",
   "metadata": {},
   "source": [
    "## 4. Preprocessing <a class=\"anchor\" id=\"Preprocessing\"></a>"
   ]
  },
  {
   "cell_type": "code",
   "execution_count": 10,
   "id": "916afa24",
   "metadata": {},
   "outputs": [],
   "source": [
    "class_to_files = defaultdict(list)\n",
    "for file_path, class_id in zip(all_files, all_class_ids):\n",
    "    class_to_files[class_id].append(file_path)"
   ]
  },
  {
   "cell_type": "markdown",
   "id": "f3405704",
   "metadata": {},
   "source": [
    "We are createing a dictionary called class_to_files, where each key represents a class ID, and the corresponding value is a list of file paths belonging to that class. This process  organizes the files into classes based on their class IDs."
   ]
  },
  {
   "cell_type": "code",
   "execution_count": 11,
   "id": "a74e190f",
   "metadata": {},
   "outputs": [],
   "source": [
    "train_fraction = 0.8\n",
    "test_fraction = 0.1\n",
    "val_fraction = 0.1"
   ]
  },
  {
   "cell_type": "markdown",
   "id": "306b18a9",
   "metadata": {},
   "source": [
    "These variables represent the fractions of the dataset that will be allocated for training(80%), testing(10%), and validation(10%)."
   ]
  },
  {
   "cell_type": "code",
   "execution_count": 12,
   "id": "b2f277f1",
   "metadata": {},
   "outputs": [],
   "source": [
    "train_files = [] \n",
    "test_files = []  \n",
    "val_files = []\n",
    "\n",
    "train_classes = []\n",
    "test_classes = []\n",
    "val_classes = []"
   ]
  },
  {
   "cell_type": "markdown",
   "id": "829f6c54",
   "metadata": {},
   "source": [
    "We will store the file paths and class labels for the training, testing, and validation sets."
   ]
  },
  {
   "cell_type": "code",
   "execution_count": 13,
   "id": "3f62b1e7",
   "metadata": {},
   "outputs": [],
   "source": [
    "for class_id, files in class_to_files.items():\n",
    "    num_samples = len(files)\n",
    "    num_train = int(train_fraction * num_samples)\n",
    "    num_test = int(test_fraction * num_samples)\n",
    "    \n",
    "    train_files.extend(files[:num_train])\n",
    "    test_files.extend(files[num_train:num_train+num_test])\n",
    "    val_files.extend(files[num_train+num_test:])\n",
    "    \n",
    "    train_classes.extend([class_id] * num_train)\n",
    "    test_classes.extend([class_id] * num_test)\n",
    "    val_classes.extend([class_id] * (num_samples - num_train - num_test))"
   ]
  },
  {
   "cell_type": "markdown",
   "id": "2553c951",
   "metadata": {},
   "source": [
    "Iterating through each class in class_to_files dictionary and splits the files associated with each class into training, testing, and validation sets based on the defined fractions. Then extends the train_files, test_files, and val_files lists with the corresponding file paths, and train_classes, test_classes, and val_classes lists with the class IDs. "
   ]
  },
  {
   "cell_type": "code",
   "execution_count": 14,
   "id": "605c609b",
   "metadata": {},
   "outputs": [
    {
     "name": "stdout",
     "output_type": "stream",
     "text": [
      "Number of training files: 12409\n",
      "Number of testing files: 1545\n",
      "Number of validation files: 1561\n"
     ]
    }
   ],
   "source": [
    "print(\"Number of training files:\", len(train_files))\n",
    "print(\"Number of testing files:\", len(test_files))\n",
    "print(\"Number of validation files:\", len(val_files))"
   ]
  },
  {
   "cell_type": "code",
   "execution_count": 15,
   "id": "c94ba7ff",
   "metadata": {},
   "outputs": [],
   "source": [
    "def count_labels(files):\n",
    "    label_counts = defaultdict(int)\n",
    "    for file_path in files:\n",
    "        class_name = os.path.basename(os.path.dirname(file_path))\n",
    "        label_counts[class_name] += 1\n",
    "    return label_counts"
   ]
  },
  {
   "cell_type": "markdown",
   "id": "1cd19564",
   "metadata": {},
   "source": [
    "This function is useful for understanding the distribution of class labels in all lists and checking if the split was made correctly."
   ]
  },
  {
   "cell_type": "code",
   "execution_count": 16,
   "id": "48203db4",
   "metadata": {},
   "outputs": [
    {
     "name": "stdout",
     "output_type": "stream",
     "text": [
      "Training Set Label Counts:\n",
      "battery: 756\n",
      "biological: 788\n",
      "brown-glass: 485\n",
      "cardboard: 712\n",
      "clothes: 4260\n",
      "green-glass: 503\n",
      "metal: 615\n",
      "paper: 840\n",
      "plastic: 692\n",
      "shoes: 1581\n",
      "trash: 557\n",
      "white-glass: 620\n",
      "\n",
      "Testing Set Label Counts:\n",
      "battery: 94\n",
      "biological: 98\n",
      "brown-glass: 60\n",
      "cardboard: 89\n",
      "clothes: 532\n",
      "green-glass: 62\n",
      "metal: 76\n",
      "paper: 105\n",
      "plastic: 86\n",
      "shoes: 197\n",
      "trash: 69\n",
      "white-glass: 77\n",
      "\n",
      "Validation Set Label Counts:\n",
      "battery: 95\n",
      "biological: 99\n",
      "brown-glass: 62\n",
      "cardboard: 90\n",
      "clothes: 533\n",
      "green-glass: 64\n",
      "metal: 78\n",
      "paper: 105\n",
      "plastic: 87\n",
      "shoes: 199\n",
      "trash: 71\n",
      "white-glass: 78\n"
     ]
    }
   ],
   "source": [
    "train_label_counts = count_labels(train_files)\n",
    "test_label_counts = count_labels(test_files)\n",
    "val_label_counts = count_labels(val_files)\n",
    "\n",
    "print(\"Training Set Label Counts:\")\n",
    "for label, count in train_label_counts.items():\n",
    "    print(f\"{label}: {count}\")\n",
    "\n",
    "print(\"\\nTesting Set Label Counts:\")\n",
    "for label, count in test_label_counts.items():\n",
    "    print(f\"{label}: {count}\")\n",
    "\n",
    "print(\"\\nValidation Set Label Counts:\")\n",
    "for label, count in val_label_counts.items():\n",
    "    print(f\"{label}: {count}\")"
   ]
  },
  {
   "cell_type": "code",
   "execution_count": 17,
   "id": "6522a5e3",
   "metadata": {},
   "outputs": [],
   "source": [
    "def preprocess_image(image_filename, image_class):\n",
    "    image_file = tf.io.read_file(image_filename)\n",
    "    image = tf.image.decode_jpeg(image_file)\n",
    "    image_scaled = tf.cast(image, float) / 255.0\n",
    "   \n",
    "    image_augmented = tf.image.random_flip_left_right(image_scaled)\n",
    "    image_augmented = tf.image.random_flip_up_down(image_augmented)\n",
    "    \n",
    "    image_resized = tf.image.resize(image_augmented, IMAGE_SIZE)\n",
    "    \n",
    "    return image_resized, image_class"
   ]
  },
  {
   "cell_type": "markdown",
   "id": "f5a90c27",
   "metadata": {},
   "source": [
    "This function reads an image file, decodes it into a tensor, scales its pixel values to the range [0, 1], resizes it to a predefined size, and returns the resized image tensor along with its corresponding class label."
   ]
  },
  {
   "cell_type": "code",
   "execution_count": 18,
   "id": "53b3cad8",
   "metadata": {},
   "outputs": [],
   "source": [
    "def create_dataset(files, class_ids):\n",
    "    dataset = tf.data.Dataset.from_tensor_slices((files, class_ids))\n",
    "    dataset_shuffled = dataset.shuffle(len(files), seed=50)\n",
    "    dataset_preprocessed = dataset_shuffled.map(preprocess_image)\n",
    "    dataset_batched = dataset_preprocessed.batch(BATCH_SIZE).repeat()\n",
    "    \n",
    "    return dataset_batched"
   ]
  },
  {
   "cell_type": "markdown",
   "id": "a73e1fb2",
   "metadata": {},
   "source": [
    "We are creating a TensorFlow dataset from a list of image file paths and their corresponding class IDs. It shuffles the dataset, applies a preprocessing function to each image, batches the data for training, and repeats the dataset indefinitely for multiple epochs."
   ]
  },
  {
   "cell_type": "code",
   "execution_count": 19,
   "id": "e43444b2",
   "metadata": {},
   "outputs": [],
   "source": [
    "train_dataset = create_dataset(train_files, train_classes)\n",
    "val_dataset = create_dataset(val_files, val_classes)\n",
    "test_dataset = create_dataset(test_files, test_classes)"
   ]
  },
  {
   "cell_type": "markdown",
   "id": "ee48f4b2",
   "metadata": {},
   "source": [
    "Each TensorFlow dataset is prepared for training, validation, and testing respectively, following the same preprocessing steps."
   ]
  },
  {
   "cell_type": "code",
   "execution_count": 20,
   "id": "2a37ad0e",
   "metadata": {},
   "outputs": [
    {
     "name": "stdout",
     "output_type": "stream",
     "text": [
      "(12, 256, 256, 3)\n",
      "(12,)\n",
      "[ 9  4 11  1  4  4  6 11  0  2  4  5]\n",
      "[[[[0.25208336 0.23639706 0.22463235]\n",
      "   [0.26758534 0.25189906 0.24013433]\n",
      "   [0.25710785 0.24142157 0.22965686]\n",
      "   ...\n",
      "   [0.09803922 0.08235294 0.07058824]\n",
      "   [0.10185356 0.08616728 0.07440258]\n",
      "   [0.11499694 0.09931067 0.08754596]]\n",
      "\n",
      "  [[0.2582108  0.2425245  0.2307598 ]\n",
      "   [0.27378985 0.25810358 0.24633884]\n",
      "   [0.26605394 0.25036767 0.23860294]\n",
      "   ...\n",
      "   [0.10134804 0.08566177 0.07389706]\n",
      "   [0.10516238 0.08947611 0.0777114 ]\n",
      "   [0.11830577 0.10261949 0.09085479]]\n",
      "\n",
      "  [[0.25330883 0.23762254 0.22585784]\n",
      "   [0.26352397 0.24783769 0.23607297]\n",
      "   [0.26655945 0.25087318 0.23910846]\n",
      "   ...\n",
      "   [0.10355392 0.08786765 0.07610294]\n",
      "   [0.10736826 0.09168199 0.07991728]\n",
      "   [0.12051164 0.10482537 0.09306066]]\n",
      "\n",
      "  ...\n",
      "\n",
      "  [[0.30416667 0.23357843 0.18651961]\n",
      "   [0.3027114  0.23212317 0.18506435]\n",
      "   [0.29480413 0.22421588 0.17715706]\n",
      "   ...\n",
      "   [0.32423982 0.26933786 0.21835746]\n",
      "   [0.2799527  0.22505075 0.17407036]\n",
      "   [0.22937012 0.17446816 0.12348777]]\n",
      "\n",
      "  [[0.28529412 0.21470588 0.16764706]\n",
      "   [0.27259785 0.20200962 0.1549508 ]\n",
      "   [0.26625785 0.19566962 0.1486108 ]\n",
      "   ...\n",
      "   [0.31998602 0.26508406 0.21410368]\n",
      "   [0.2621295  0.20722753 0.15624714]\n",
      "   [0.24044117 0.18553922 0.13455883]]\n",
      "\n",
      "  [[0.2644608  0.19387256 0.14681374]\n",
      "   [0.26574802 0.1951598  0.14810097]\n",
      "   [0.28441668 0.21382841 0.1667696 ]\n",
      "   ...\n",
      "   [0.2813965  0.22649454 0.17551415]\n",
      "   [0.25517675 0.20027478 0.14929439]\n",
      "   [0.24987747 0.1949755  0.1439951 ]]]\n",
      "\n",
      "\n",
      " [[[0.38436735 0.13730852 0.06672029]\n",
      "   [0.39662224 0.14956343 0.07897519]\n",
      "   [0.41064647 0.16358763 0.09299939]\n",
      "   ...\n",
      "   [0.34761918 0.12408975 0.05742307]\n",
      "   [0.35833335 0.13480392 0.06813726]\n",
      "   [0.33255187 0.10902243 0.04235577]]\n",
      "\n",
      "  [[0.3865656  0.13950674 0.0689185 ]\n",
      "   [0.39600185 0.14894302 0.07835478]\n",
      "   [0.40861315 0.16155432 0.09096608]\n",
      "   ...\n",
      "   [0.3491917  0.1256623  0.05899563]\n",
      "   [0.35542065 0.13189124 0.06522457]\n",
      "   [0.3391774  0.11564798 0.04898131]]\n",
      "\n",
      "  [[0.40402114 0.15696232 0.08637408]\n",
      "   [0.41261083 0.165552   0.09496376]\n",
      "   [0.4201976  0.1731388  0.10255055]\n",
      "   ...\n",
      "   [0.35645515 0.12508258 0.06233748]\n",
      "   [0.35625002 0.12487746 0.06213235]\n",
      "   [0.35222003 0.12084746 0.05810236]]\n",
      "\n",
      "  ...\n",
      "\n",
      "  [[0.7921569  0.4        0.34117648]\n",
      "   [0.79131025 0.3991534  0.3403299 ]\n",
      "   [0.7889646  0.39680773 0.3379842 ]\n",
      "   ...\n",
      "   [0.90287226 0.5969899  0.51855856]\n",
      "   [0.90287226 0.5969899  0.51855856]\n",
      "   [0.90287226 0.5969899  0.51855856]]\n",
      "\n",
      "  [[0.7927634  0.40060654 0.34178302]\n",
      "   [0.7853226  0.39316574 0.3343422 ]\n",
      "   [0.7790058  0.38684896 0.32802543]\n",
      "   ...\n",
      "   [0.8862745  0.5803922  0.5019608 ]\n",
      "   [0.88235295 0.5764706  0.49803922]\n",
      "   [0.88235295 0.5764706  0.49803922]]\n",
      "\n",
      "  [[0.79083157 0.3986747  0.33985117]\n",
      "   [0.78283405 0.39067718 0.33185366]\n",
      "   [0.77913487 0.38697797 0.32815444]\n",
      "   ...\n",
      "   [0.887708   0.5818257  0.5033943 ]\n",
      "   [0.8859981  0.58011574 0.50168437]\n",
      "   [0.8829583  0.57707596 0.49864456]]]\n",
      "\n",
      "\n",
      " [[[0.25490198 0.23921569 0.19215687]\n",
      "   [0.2549166  0.23923032 0.1921715 ]\n",
      "   [0.25646308 0.24077679 0.19371797]\n",
      "   ...\n",
      "   [0.23375177 0.2180655  0.18277138]\n",
      "   [0.2353171  0.21963082 0.1843367 ]\n",
      "   [0.2353171  0.21963082 0.1843367 ]]\n",
      "\n",
      "  [[0.25490198 0.23921569 0.19215687]\n",
      "   [0.2573989  0.24171263 0.19465381]\n",
      "   [0.25882354 0.24313726 0.19607843]\n",
      "   ...\n",
      "   [0.23457414 0.21888787 0.18359375]\n",
      "   [0.23921569 0.22352941 0.1882353 ]\n",
      "   [0.23921569 0.22352941 0.1882353 ]]\n",
      "\n",
      "  [[0.2547871  0.2391008  0.19204198]\n",
      "   [0.25721085 0.24152459 0.19446577]\n",
      "   [0.2586391  0.24295281 0.19589399]\n",
      "   ...\n",
      "   [0.23450458 0.21886364 0.18356952]\n",
      "   [0.2391008  0.22341453 0.18812041]\n",
      "   [0.2391008  0.22341453 0.18812041]]\n",
      "\n",
      "  ...\n",
      "\n",
      "  [[0.16078432 0.14901961 0.12941177]\n",
      "   [0.16827513 0.15651043 0.13690259]\n",
      "   [0.17869242 0.16692771 0.14731987]\n",
      "   ...\n",
      "   [0.4211927  0.38197702 0.3349182 ]\n",
      "   [0.4273361  0.3881204  0.3410616 ]\n",
      "   [0.4273361  0.3881204  0.3410616 ]]\n",
      "\n",
      "  [[0.16078432 0.14901961 0.12941177]\n",
      "   [0.17072818 0.15896347 0.13935563]\n",
      "   [0.1810704  0.1693057  0.14969786]\n",
      "   ...\n",
      "   [0.42126226 0.38204658 0.33498776]\n",
      "   [0.42745098 0.3882353  0.34117648]\n",
      "   [0.42745098 0.3882353  0.34117648]]\n",
      "\n",
      "  [[0.16078432 0.14901961 0.12941177]\n",
      "   [0.17077206 0.15900736 0.13939951]\n",
      "   [0.18265025 0.17088555 0.1512777 ]\n",
      "   ...\n",
      "   [0.4220846  0.38286892 0.3358101 ]\n",
      "   [0.43134958 0.3921339  0.34507507]\n",
      "   [0.43134958 0.3921339  0.34507507]]]\n",
      "\n",
      "\n",
      " ...\n",
      "\n",
      "\n",
      " [[[0.8666667  0.8666667  0.8666667 ]\n",
      "   [0.8666667  0.8666667  0.8666667 ]\n",
      "   [0.8667816  0.8667816  0.8667816 ]\n",
      "   ...\n",
      "   [0.8980392  0.8980392  0.8980392 ]\n",
      "   [0.8980392  0.8980392  0.8980392 ]\n",
      "   [0.8980392  0.8980392  0.8980392 ]]\n",
      "\n",
      "  [[0.8666667  0.8666667  0.8666667 ]\n",
      "   [0.8666667  0.8666667  0.8666667 ]\n",
      "   [0.8667816  0.8667816  0.8667816 ]\n",
      "   ...\n",
      "   [0.8980392  0.8980392  0.8980392 ]\n",
      "   [0.8980392  0.8980392  0.8980392 ]\n",
      "   [0.8980392  0.8980392  0.8980392 ]]\n",
      "\n",
      "  [[0.8666667  0.8666667  0.8666667 ]\n",
      "   [0.8666667  0.8666667  0.8666667 ]\n",
      "   [0.8667816  0.8667816  0.8667816 ]\n",
      "   ...\n",
      "   [0.8980392  0.8980392  0.8980392 ]\n",
      "   [0.8980392  0.8980392  0.8980392 ]\n",
      "   [0.8980392  0.8980392  0.8980392 ]]\n",
      "\n",
      "  ...\n",
      "\n",
      "  [[0.9254902  0.92549926 0.9223499 ]\n",
      "   [0.9254902  0.92703736 0.9145527 ]\n",
      "   [0.92553556 0.9271523  0.91445893]\n",
      "   ...\n",
      "   [0.9223958  0.92246544 0.9174173 ]\n",
      "   [0.9223958  0.92472845 0.9099418 ]\n",
      "   [0.9247563  0.92477024 0.9199616 ]]\n",
      "\n",
      "  [[0.9254902  0.9254902  0.92546093]\n",
      "   [0.9254902  0.9254902  0.92049634]\n",
      "   [0.9254902  0.9256051  0.92018306]\n",
      "   ...\n",
      "   [0.9254902  0.926988   0.9146515 ]\n",
      "   [0.9254902  0.92936784 0.9098917 ]\n",
      "   [0.92938876 0.93082803 0.9186671 ]]\n",
      "\n",
      "  [[0.9254902  0.9254902  0.9254902 ]\n",
      "   [0.9254902  0.9254902  0.9254902 ]\n",
      "   [0.9254902  0.9256051  0.92503065]\n",
      "   ...\n",
      "   [0.9254902  0.92941177 0.9098039 ]\n",
      "   [0.9254902  0.92941177 0.9098039 ]\n",
      "   [0.92938876 0.93331033 0.9137025 ]]]\n",
      "\n",
      "\n",
      " [[[0.62652564 0.59907466 0.52848643]\n",
      "   [0.6257516  0.59830064 0.5277124 ]\n",
      "   [0.6240151  0.5965641  0.5259759 ]\n",
      "   ...\n",
      "   [0.8102027  0.79451644 0.7592223 ]\n",
      "   [0.824501   0.8088147  0.7735206 ]\n",
      "   [0.85099024 0.83530396 0.80000985]]\n",
      "\n",
      "  [[0.6176418  0.5901908  0.5196026 ]\n",
      "   [0.65486443 0.62741345 0.5568252 ]\n",
      "   [0.6478126  0.6203616  0.5497734 ]\n",
      "   ...\n",
      "   [0.82370555 0.8080193  0.77272516]\n",
      "   [0.81092817 0.7952419  0.7599478 ]\n",
      "   [0.8192895  0.80360323 0.7683091 ]]\n",
      "\n",
      "  [[0.6419977  0.6145467  0.5439585 ]\n",
      "   [0.6436739  0.6162229  0.5456347 ]\n",
      "   [0.6337185  0.6062675  0.5356793 ]\n",
      "   ...\n",
      "   [0.8173153  0.801629   0.7663349 ]\n",
      "   [0.8180073  0.802321   0.7670269 ]\n",
      "   [0.848555   0.83286875 0.79757464]]\n",
      "\n",
      "  ...\n",
      "\n",
      "  [[0.74350756 0.7189666  0.65589625]\n",
      "   [0.76024556 0.7349253  0.6719995 ]\n",
      "   [0.7752348  0.7526422  0.6892104 ]\n",
      "   ...\n",
      "   [0.7253734  0.73298436 0.7152198 ]\n",
      "   [0.738737   0.74907565 0.73080504]\n",
      "   [0.75554514 0.7651044  0.7469784 ]]\n",
      "\n",
      "  [[0.74241513 0.7306504  0.66398376]\n",
      "   [0.77361846 0.76185375 0.6951871 ]\n",
      "   [0.786184   0.7744193  0.70775265]\n",
      "   ...\n",
      "   [0.74414206 0.7614215  0.7527205 ]\n",
      "   [0.7336749  0.74936116 0.7454396 ]\n",
      "   [0.7579042  0.77359045 0.7696689 ]]\n",
      "\n",
      "  [[0.78901654 0.77725184 0.7105852 ]\n",
      "   [0.7921066  0.7803419  0.71367526]\n",
      "   [0.77627194 0.76450723 0.6978406 ]\n",
      "   ...\n",
      "   [0.8254442  0.84272367 0.8340227 ]\n",
      "   [0.7957513  0.81143755 0.807516  ]\n",
      "   [0.75827134 0.7739576  0.77003604]]]\n",
      "\n",
      "\n",
      " [[[1.         1.         1.        ]\n",
      "   [1.         1.         1.        ]\n",
      "   [1.         1.         1.        ]\n",
      "   ...\n",
      "   [0.99215686 0.99215686 0.99215686]\n",
      "   [0.99215686 0.99215686 0.99215686]\n",
      "   [0.99215686 0.99215686 0.99215686]]\n",
      "\n",
      "  [[1.         1.         1.        ]\n",
      "   [1.         1.         1.        ]\n",
      "   [1.         1.         1.        ]\n",
      "   ...\n",
      "   [0.99215686 0.99215686 0.99215686]\n",
      "   [0.99215686 0.99215686 0.99215686]\n",
      "   [0.99215686 0.99215686 0.99215686]]\n",
      "\n",
      "  [[1.         1.         1.        ]\n",
      "   [1.         1.         1.        ]\n",
      "   [1.         1.         1.        ]\n",
      "   ...\n",
      "   [0.98961395 0.98961395 0.98961395]\n",
      "   [0.98961395 0.98961395 0.98961395]\n",
      "   [0.98961395 0.98961395 0.98961395]]\n",
      "\n",
      "  ...\n",
      "\n",
      "  [[1.         1.         1.        ]\n",
      "   [1.         1.         1.        ]\n",
      "   [1.         1.         1.        ]\n",
      "   ...\n",
      "   [1.         1.         1.        ]\n",
      "   [1.         1.         1.        ]\n",
      "   [1.         1.         1.        ]]\n",
      "\n",
      "  [[1.         1.         1.        ]\n",
      "   [1.         1.         1.        ]\n",
      "   [1.         1.         1.        ]\n",
      "   ...\n",
      "   [1.         1.         1.        ]\n",
      "   [1.         1.         1.        ]\n",
      "   [1.         1.         1.        ]]\n",
      "\n",
      "  [[1.         1.         1.        ]\n",
      "   [1.         1.         1.        ]\n",
      "   [1.         1.         1.        ]\n",
      "   ...\n",
      "   [1.         1.         1.        ]\n",
      "   [1.         1.         1.        ]\n",
      "   [1.         1.         1.        ]]]]\n"
     ]
    }
   ],
   "source": [
    "for el in train_dataset.take(1):\n",
    "    print(el[0].shape)\n",
    "    print(el[1].shape)\n",
    "    print(el[1].numpy())\n",
    "    print(el[0].numpy())"
   ]
  },
  {
   "cell_type": "markdown",
   "id": "56f3ba37",
   "metadata": {},
   "source": [
    "## 5. Model Selection <a class=\"anchor\" id=\"Model\"></a>"
   ]
  },
  {
   "cell_type": "code",
   "execution_count": 21,
   "id": "bc02f175",
   "metadata": {},
   "outputs": [
    {
     "name": "stdout",
     "output_type": "stream",
     "text": [
      "Model: \"sequential\"\n",
      "_________________________________________________________________\n",
      " Layer (type)                Output Shape              Param #   \n",
      "=================================================================\n",
      " conv2d (Conv2D)             (None, 254, 254, 32)      896       \n",
      "                                                                 \n",
      " conv2d_1 (Conv2D)           (None, 252, 252, 64)      18496     \n",
      "                                                                 \n",
      " max_pooling2d (MaxPooling2D  (None, 126, 126, 64)     0         \n",
      " )                                                               \n",
      "                                                                 \n",
      " dropout (Dropout)           (None, 126, 126, 64)      0         \n",
      "                                                                 \n",
      " flatten (Flatten)           (None, 1016064)           0         \n",
      "                                                                 \n",
      " dense (Dense)               (None, 250)               254016250 \n",
      "                                                                 \n",
      " dense_1 (Dense)             (None, 12)                3012      \n",
      "                                                                 \n",
      "=================================================================\n",
      "Total params: 254,038,654\n",
      "Trainable params: 254,038,654\n",
      "Non-trainable params: 0\n",
      "_________________________________________________________________\n"
     ]
    }
   ],
   "source": [
    "def create_cnn_model(input_shape, num_classes):\n",
    "    model = Sequential([\n",
    "        Conv2D(32, (3, 3), activation='relu', input_shape=input_shape),\n",
    "        Conv2D(64, (3, 3), activation='relu'),\n",
    "        MaxPooling2D((2, 2)),\n",
    "        Dropout(0.5),\n",
    "        Flatten(),\n",
    "        Dense(250, activation='relu'),\n",
    "        Dense(num_classes, activation='softmax')\n",
    "    ])\n",
    "    return model\n",
    "\n",
    "\n",
    "cnn_model = create_cnn_model(IMAGE_SIZE_CHANNELS, NUM_CLASSES)\n",
    "\n",
    "cnn_model.compile(optimizer='adam',\n",
    "                  loss='sparse_categorical_crossentropy',\n",
    "                  metrics=['accuracy'])\n",
    "\n",
    "cnn_model.summary()"
   ]
  },
  {
   "cell_type": "code",
   "execution_count": 22,
   "id": "996ae1f7",
   "metadata": {},
   "outputs": [],
   "source": [
    "early_stop = EarlyStopping(\n",
    "    patience=2, \n",
    "    verbose=1, \n",
    "    monitor='val_accuracy', \n",
    "    mode='max', \n",
    "    min_delta=0.001, \n",
    "    restore_best_weights=True\n",
    ")\n",
    "\n",
    "callbacks = [early_stop]"
   ]
  },
  {
   "cell_type": "code",
   "execution_count": 23,
   "id": "5bc5826b",
   "metadata": {},
   "outputs": [],
   "source": [
    "train_steps_per_epoch = len(train_files) // BATCH_SIZE\n",
    "val_steps_per_epoch = len(val_files) // BATCH_SIZE"
   ]
  },
  {
   "cell_type": "code",
   "execution_count": 24,
   "id": "8748a8f9",
   "metadata": {},
   "outputs": [
    {
     "name": "stdout",
     "output_type": "stream",
     "text": [
      "Epoch 1/20\n",
      "   3/1034 [..............................] - ETA: 39:30 - loss: 45.7185 - accuracy: 0.1111   "
     ]
    },
    {
     "ename": "KeyboardInterrupt",
     "evalue": "",
     "output_type": "error",
     "traceback": [
      "\u001b[1;31m---------------------------------------------------------------------------\u001b[0m",
      "\u001b[1;31mKeyboardInterrupt\u001b[0m                         Traceback (most recent call last)",
      "Input \u001b[1;32mIn [24]\u001b[0m, in \u001b[0;36m<cell line: 1>\u001b[1;34m()\u001b[0m\n\u001b[1;32m----> 1\u001b[0m training_logs \u001b[38;5;241m=\u001b[39m \u001b[43mcnn_model\u001b[49m\u001b[38;5;241;43m.\u001b[39;49m\u001b[43mfit\u001b[49m\u001b[43m(\u001b[49m\n\u001b[0;32m      2\u001b[0m \u001b[43m    \u001b[49m\u001b[43mtrain_dataset\u001b[49m\u001b[43m,\u001b[49m\n\u001b[0;32m      3\u001b[0m \u001b[43m    \u001b[49m\u001b[43msteps_per_epoch\u001b[49m\u001b[38;5;241;43m=\u001b[39;49m\u001b[43mtrain_steps_per_epoch\u001b[49m\u001b[43m,\u001b[49m\n\u001b[0;32m      4\u001b[0m \u001b[43m    \u001b[49m\u001b[43mepochs\u001b[49m\u001b[38;5;241;43m=\u001b[39;49m\u001b[38;5;241;43m20\u001b[39;49m\u001b[43m,\u001b[49m\n\u001b[0;32m      5\u001b[0m \u001b[43m    \u001b[49m\u001b[43mvalidation_data\u001b[49m\u001b[38;5;241;43m=\u001b[39;49m\u001b[43mval_dataset\u001b[49m\u001b[43m,\u001b[49m\n\u001b[0;32m      6\u001b[0m \u001b[43m    \u001b[49m\u001b[43mvalidation_steps\u001b[49m\u001b[38;5;241;43m=\u001b[39;49m\u001b[43mval_steps_per_epoch\u001b[49m\u001b[43m,\u001b[49m\n\u001b[0;32m      7\u001b[0m \u001b[43m    \u001b[49m\u001b[43mcallbacks\u001b[49m\u001b[38;5;241;43m=\u001b[39;49m\u001b[43mcallbacks\u001b[49m\n\u001b[0;32m      8\u001b[0m \u001b[43m)\u001b[49m\n",
      "File \u001b[1;32m~\\AppData\\Local\\Packages\\PythonSoftwareFoundation.Python.3.9_qbz5n2kfra8p0\\LocalCache\\local-packages\\Python39\\site-packages\\keras\\utils\\traceback_utils.py:65\u001b[0m, in \u001b[0;36mfilter_traceback.<locals>.error_handler\u001b[1;34m(*args, **kwargs)\u001b[0m\n\u001b[0;32m     63\u001b[0m filtered_tb \u001b[38;5;241m=\u001b[39m \u001b[38;5;28;01mNone\u001b[39;00m\n\u001b[0;32m     64\u001b[0m \u001b[38;5;28;01mtry\u001b[39;00m:\n\u001b[1;32m---> 65\u001b[0m     \u001b[38;5;28;01mreturn\u001b[39;00m fn(\u001b[38;5;241m*\u001b[39margs, \u001b[38;5;241m*\u001b[39m\u001b[38;5;241m*\u001b[39mkwargs)\n\u001b[0;32m     66\u001b[0m \u001b[38;5;28;01mexcept\u001b[39;00m \u001b[38;5;167;01mException\u001b[39;00m \u001b[38;5;28;01mas\u001b[39;00m e:\n\u001b[0;32m     67\u001b[0m     filtered_tb \u001b[38;5;241m=\u001b[39m _process_traceback_frames(e\u001b[38;5;241m.\u001b[39m__traceback__)\n",
      "File \u001b[1;32m~\\AppData\\Local\\Packages\\PythonSoftwareFoundation.Python.3.9_qbz5n2kfra8p0\\LocalCache\\local-packages\\Python39\\site-packages\\keras\\engine\\training.py:1685\u001b[0m, in \u001b[0;36mModel.fit\u001b[1;34m(self, x, y, batch_size, epochs, verbose, callbacks, validation_split, validation_data, shuffle, class_weight, sample_weight, initial_epoch, steps_per_epoch, validation_steps, validation_batch_size, validation_freq, max_queue_size, workers, use_multiprocessing)\u001b[0m\n\u001b[0;32m   1677\u001b[0m \u001b[38;5;28;01mwith\u001b[39;00m tf\u001b[38;5;241m.\u001b[39mprofiler\u001b[38;5;241m.\u001b[39mexperimental\u001b[38;5;241m.\u001b[39mTrace(\n\u001b[0;32m   1678\u001b[0m     \u001b[38;5;124m\"\u001b[39m\u001b[38;5;124mtrain\u001b[39m\u001b[38;5;124m\"\u001b[39m,\n\u001b[0;32m   1679\u001b[0m     epoch_num\u001b[38;5;241m=\u001b[39mepoch,\n\u001b[1;32m   (...)\u001b[0m\n\u001b[0;32m   1682\u001b[0m     _r\u001b[38;5;241m=\u001b[39m\u001b[38;5;241m1\u001b[39m,\n\u001b[0;32m   1683\u001b[0m ):\n\u001b[0;32m   1684\u001b[0m     callbacks\u001b[38;5;241m.\u001b[39mon_train_batch_begin(step)\n\u001b[1;32m-> 1685\u001b[0m     tmp_logs \u001b[38;5;241m=\u001b[39m \u001b[38;5;28;43mself\u001b[39;49m\u001b[38;5;241;43m.\u001b[39;49m\u001b[43mtrain_function\u001b[49m\u001b[43m(\u001b[49m\u001b[43miterator\u001b[49m\u001b[43m)\u001b[49m\n\u001b[0;32m   1686\u001b[0m     \u001b[38;5;28;01mif\u001b[39;00m data_handler\u001b[38;5;241m.\u001b[39mshould_sync:\n\u001b[0;32m   1687\u001b[0m         context\u001b[38;5;241m.\u001b[39masync_wait()\n",
      "File \u001b[1;32m~\\AppData\\Local\\Packages\\PythonSoftwareFoundation.Python.3.9_qbz5n2kfra8p0\\LocalCache\\local-packages\\Python39\\site-packages\\tensorflow\\python\\util\\traceback_utils.py:150\u001b[0m, in \u001b[0;36mfilter_traceback.<locals>.error_handler\u001b[1;34m(*args, **kwargs)\u001b[0m\n\u001b[0;32m    148\u001b[0m filtered_tb \u001b[38;5;241m=\u001b[39m \u001b[38;5;28;01mNone\u001b[39;00m\n\u001b[0;32m    149\u001b[0m \u001b[38;5;28;01mtry\u001b[39;00m:\n\u001b[1;32m--> 150\u001b[0m   \u001b[38;5;28;01mreturn\u001b[39;00m fn(\u001b[38;5;241m*\u001b[39margs, \u001b[38;5;241m*\u001b[39m\u001b[38;5;241m*\u001b[39mkwargs)\n\u001b[0;32m    151\u001b[0m \u001b[38;5;28;01mexcept\u001b[39;00m \u001b[38;5;167;01mException\u001b[39;00m \u001b[38;5;28;01mas\u001b[39;00m e:\n\u001b[0;32m    152\u001b[0m   filtered_tb \u001b[38;5;241m=\u001b[39m _process_traceback_frames(e\u001b[38;5;241m.\u001b[39m__traceback__)\n",
      "File \u001b[1;32m~\\AppData\\Local\\Packages\\PythonSoftwareFoundation.Python.3.9_qbz5n2kfra8p0\\LocalCache\\local-packages\\Python39\\site-packages\\tensorflow\\python\\eager\\polymorphic_function\\polymorphic_function.py:894\u001b[0m, in \u001b[0;36mFunction.__call__\u001b[1;34m(self, *args, **kwds)\u001b[0m\n\u001b[0;32m    891\u001b[0m compiler \u001b[38;5;241m=\u001b[39m \u001b[38;5;124m\"\u001b[39m\u001b[38;5;124mxla\u001b[39m\u001b[38;5;124m\"\u001b[39m \u001b[38;5;28;01mif\u001b[39;00m \u001b[38;5;28mself\u001b[39m\u001b[38;5;241m.\u001b[39m_jit_compile \u001b[38;5;28;01melse\u001b[39;00m \u001b[38;5;124m\"\u001b[39m\u001b[38;5;124mnonXla\u001b[39m\u001b[38;5;124m\"\u001b[39m\n\u001b[0;32m    893\u001b[0m \u001b[38;5;28;01mwith\u001b[39;00m OptionalXlaContext(\u001b[38;5;28mself\u001b[39m\u001b[38;5;241m.\u001b[39m_jit_compile):\n\u001b[1;32m--> 894\u001b[0m   result \u001b[38;5;241m=\u001b[39m \u001b[38;5;28mself\u001b[39m\u001b[38;5;241m.\u001b[39m_call(\u001b[38;5;241m*\u001b[39margs, \u001b[38;5;241m*\u001b[39m\u001b[38;5;241m*\u001b[39mkwds)\n\u001b[0;32m    896\u001b[0m new_tracing_count \u001b[38;5;241m=\u001b[39m \u001b[38;5;28mself\u001b[39m\u001b[38;5;241m.\u001b[39mexperimental_get_tracing_count()\n\u001b[0;32m    897\u001b[0m without_tracing \u001b[38;5;241m=\u001b[39m (tracing_count \u001b[38;5;241m==\u001b[39m new_tracing_count)\n",
      "File \u001b[1;32m~\\AppData\\Local\\Packages\\PythonSoftwareFoundation.Python.3.9_qbz5n2kfra8p0\\LocalCache\\local-packages\\Python39\\site-packages\\tensorflow\\python\\eager\\polymorphic_function\\polymorphic_function.py:926\u001b[0m, in \u001b[0;36mFunction._call\u001b[1;34m(self, *args, **kwds)\u001b[0m\n\u001b[0;32m    923\u001b[0m   \u001b[38;5;28mself\u001b[39m\u001b[38;5;241m.\u001b[39m_lock\u001b[38;5;241m.\u001b[39mrelease()\n\u001b[0;32m    924\u001b[0m   \u001b[38;5;66;03m# In this case we have created variables on the first call, so we run the\u001b[39;00m\n\u001b[0;32m    925\u001b[0m   \u001b[38;5;66;03m# defunned version which is guaranteed to never create variables.\u001b[39;00m\n\u001b[1;32m--> 926\u001b[0m   \u001b[38;5;28;01mreturn\u001b[39;00m \u001b[38;5;28mself\u001b[39m\u001b[38;5;241m.\u001b[39m_no_variable_creation_fn(\u001b[38;5;241m*\u001b[39margs, \u001b[38;5;241m*\u001b[39m\u001b[38;5;241m*\u001b[39mkwds)  \u001b[38;5;66;03m# pylint: disable=not-callable\u001b[39;00m\n\u001b[0;32m    927\u001b[0m \u001b[38;5;28;01melif\u001b[39;00m \u001b[38;5;28mself\u001b[39m\u001b[38;5;241m.\u001b[39m_variable_creation_fn \u001b[38;5;129;01mis\u001b[39;00m \u001b[38;5;129;01mnot\u001b[39;00m \u001b[38;5;28;01mNone\u001b[39;00m:\n\u001b[0;32m    928\u001b[0m   \u001b[38;5;66;03m# Release the lock early so that multiple threads can perform the call\u001b[39;00m\n\u001b[0;32m    929\u001b[0m   \u001b[38;5;66;03m# in parallel.\u001b[39;00m\n\u001b[0;32m    930\u001b[0m   \u001b[38;5;28mself\u001b[39m\u001b[38;5;241m.\u001b[39m_lock\u001b[38;5;241m.\u001b[39mrelease()\n",
      "File \u001b[1;32m~\\AppData\\Local\\Packages\\PythonSoftwareFoundation.Python.3.9_qbz5n2kfra8p0\\LocalCache\\local-packages\\Python39\\site-packages\\tensorflow\\python\\eager\\polymorphic_function\\tracing_compiler.py:143\u001b[0m, in \u001b[0;36mTracingCompiler.__call__\u001b[1;34m(self, *args, **kwargs)\u001b[0m\n\u001b[0;32m    140\u001b[0m \u001b[38;5;28;01mwith\u001b[39;00m \u001b[38;5;28mself\u001b[39m\u001b[38;5;241m.\u001b[39m_lock:\n\u001b[0;32m    141\u001b[0m   (concrete_function,\n\u001b[0;32m    142\u001b[0m    filtered_flat_args) \u001b[38;5;241m=\u001b[39m \u001b[38;5;28mself\u001b[39m\u001b[38;5;241m.\u001b[39m_maybe_define_function(args, kwargs)\n\u001b[1;32m--> 143\u001b[0m \u001b[38;5;28;01mreturn\u001b[39;00m \u001b[43mconcrete_function\u001b[49m\u001b[38;5;241;43m.\u001b[39;49m\u001b[43m_call_flat\u001b[49m\u001b[43m(\u001b[49m\n\u001b[0;32m    144\u001b[0m \u001b[43m    \u001b[49m\u001b[43mfiltered_flat_args\u001b[49m\u001b[43m,\u001b[49m\u001b[43m \u001b[49m\u001b[43mcaptured_inputs\u001b[49m\u001b[38;5;241;43m=\u001b[39;49m\u001b[43mconcrete_function\u001b[49m\u001b[38;5;241;43m.\u001b[39;49m\u001b[43mcaptured_inputs\u001b[49m\u001b[43m)\u001b[49m\n",
      "File \u001b[1;32m~\\AppData\\Local\\Packages\\PythonSoftwareFoundation.Python.3.9_qbz5n2kfra8p0\\LocalCache\\local-packages\\Python39\\site-packages\\tensorflow\\python\\eager\\polymorphic_function\\monomorphic_function.py:1757\u001b[0m, in \u001b[0;36mConcreteFunction._call_flat\u001b[1;34m(self, args, captured_inputs, cancellation_manager)\u001b[0m\n\u001b[0;32m   1753\u001b[0m possible_gradient_type \u001b[38;5;241m=\u001b[39m gradients_util\u001b[38;5;241m.\u001b[39mPossibleTapeGradientTypes(args)\n\u001b[0;32m   1754\u001b[0m \u001b[38;5;28;01mif\u001b[39;00m (possible_gradient_type \u001b[38;5;241m==\u001b[39m gradients_util\u001b[38;5;241m.\u001b[39mPOSSIBLE_GRADIENT_TYPES_NONE\n\u001b[0;32m   1755\u001b[0m     \u001b[38;5;129;01mand\u001b[39;00m executing_eagerly):\n\u001b[0;32m   1756\u001b[0m   \u001b[38;5;66;03m# No tape is watching; skip to running the function.\u001b[39;00m\n\u001b[1;32m-> 1757\u001b[0m   \u001b[38;5;28;01mreturn\u001b[39;00m \u001b[38;5;28mself\u001b[39m\u001b[38;5;241m.\u001b[39m_build_call_outputs(\u001b[38;5;28;43mself\u001b[39;49m\u001b[38;5;241;43m.\u001b[39;49m\u001b[43m_inference_function\u001b[49m\u001b[38;5;241;43m.\u001b[39;49m\u001b[43mcall\u001b[49m\u001b[43m(\u001b[49m\n\u001b[0;32m   1758\u001b[0m \u001b[43m      \u001b[49m\u001b[43mctx\u001b[49m\u001b[43m,\u001b[49m\u001b[43m \u001b[49m\u001b[43margs\u001b[49m\u001b[43m,\u001b[49m\u001b[43m \u001b[49m\u001b[43mcancellation_manager\u001b[49m\u001b[38;5;241;43m=\u001b[39;49m\u001b[43mcancellation_manager\u001b[49m\u001b[43m)\u001b[49m)\n\u001b[0;32m   1759\u001b[0m forward_backward \u001b[38;5;241m=\u001b[39m \u001b[38;5;28mself\u001b[39m\u001b[38;5;241m.\u001b[39m_select_forward_and_backward_functions(\n\u001b[0;32m   1760\u001b[0m     args,\n\u001b[0;32m   1761\u001b[0m     possible_gradient_type,\n\u001b[0;32m   1762\u001b[0m     executing_eagerly)\n\u001b[0;32m   1763\u001b[0m forward_function, args_with_tangents \u001b[38;5;241m=\u001b[39m forward_backward\u001b[38;5;241m.\u001b[39mforward()\n",
      "File \u001b[1;32m~\\AppData\\Local\\Packages\\PythonSoftwareFoundation.Python.3.9_qbz5n2kfra8p0\\LocalCache\\local-packages\\Python39\\site-packages\\tensorflow\\python\\eager\\polymorphic_function\\monomorphic_function.py:381\u001b[0m, in \u001b[0;36m_EagerDefinedFunction.call\u001b[1;34m(self, ctx, args, cancellation_manager)\u001b[0m\n\u001b[0;32m    379\u001b[0m \u001b[38;5;28;01mwith\u001b[39;00m _InterpolateFunctionError(\u001b[38;5;28mself\u001b[39m):\n\u001b[0;32m    380\u001b[0m   \u001b[38;5;28;01mif\u001b[39;00m cancellation_manager \u001b[38;5;129;01mis\u001b[39;00m \u001b[38;5;28;01mNone\u001b[39;00m:\n\u001b[1;32m--> 381\u001b[0m     outputs \u001b[38;5;241m=\u001b[39m \u001b[43mexecute\u001b[49m\u001b[38;5;241;43m.\u001b[39;49m\u001b[43mexecute\u001b[49m\u001b[43m(\u001b[49m\n\u001b[0;32m    382\u001b[0m \u001b[43m        \u001b[49m\u001b[38;5;28;43mstr\u001b[39;49m\u001b[43m(\u001b[49m\u001b[38;5;28;43mself\u001b[39;49m\u001b[38;5;241;43m.\u001b[39;49m\u001b[43msignature\u001b[49m\u001b[38;5;241;43m.\u001b[39;49m\u001b[43mname\u001b[49m\u001b[43m)\u001b[49m\u001b[43m,\u001b[49m\n\u001b[0;32m    383\u001b[0m \u001b[43m        \u001b[49m\u001b[43mnum_outputs\u001b[49m\u001b[38;5;241;43m=\u001b[39;49m\u001b[38;5;28;43mself\u001b[39;49m\u001b[38;5;241;43m.\u001b[39;49m\u001b[43m_num_outputs\u001b[49m\u001b[43m,\u001b[49m\n\u001b[0;32m    384\u001b[0m \u001b[43m        \u001b[49m\u001b[43minputs\u001b[49m\u001b[38;5;241;43m=\u001b[39;49m\u001b[43margs\u001b[49m\u001b[43m,\u001b[49m\n\u001b[0;32m    385\u001b[0m \u001b[43m        \u001b[49m\u001b[43mattrs\u001b[49m\u001b[38;5;241;43m=\u001b[39;49m\u001b[43mattrs\u001b[49m\u001b[43m,\u001b[49m\n\u001b[0;32m    386\u001b[0m \u001b[43m        \u001b[49m\u001b[43mctx\u001b[49m\u001b[38;5;241;43m=\u001b[39;49m\u001b[43mctx\u001b[49m\u001b[43m)\u001b[49m\n\u001b[0;32m    387\u001b[0m   \u001b[38;5;28;01melse\u001b[39;00m:\n\u001b[0;32m    388\u001b[0m     outputs \u001b[38;5;241m=\u001b[39m execute\u001b[38;5;241m.\u001b[39mexecute_with_cancellation(\n\u001b[0;32m    389\u001b[0m         \u001b[38;5;28mstr\u001b[39m(\u001b[38;5;28mself\u001b[39m\u001b[38;5;241m.\u001b[39msignature\u001b[38;5;241m.\u001b[39mname),\n\u001b[0;32m    390\u001b[0m         num_outputs\u001b[38;5;241m=\u001b[39m\u001b[38;5;28mself\u001b[39m\u001b[38;5;241m.\u001b[39m_num_outputs,\n\u001b[1;32m   (...)\u001b[0m\n\u001b[0;32m    393\u001b[0m         ctx\u001b[38;5;241m=\u001b[39mctx,\n\u001b[0;32m    394\u001b[0m         cancellation_manager\u001b[38;5;241m=\u001b[39mcancellation_manager)\n",
      "File \u001b[1;32m~\\AppData\\Local\\Packages\\PythonSoftwareFoundation.Python.3.9_qbz5n2kfra8p0\\LocalCache\\local-packages\\Python39\\site-packages\\tensorflow\\python\\eager\\execute.py:52\u001b[0m, in \u001b[0;36mquick_execute\u001b[1;34m(op_name, num_outputs, inputs, attrs, ctx, name)\u001b[0m\n\u001b[0;32m     50\u001b[0m \u001b[38;5;28;01mtry\u001b[39;00m:\n\u001b[0;32m     51\u001b[0m   ctx\u001b[38;5;241m.\u001b[39mensure_initialized()\n\u001b[1;32m---> 52\u001b[0m   tensors \u001b[38;5;241m=\u001b[39m \u001b[43mpywrap_tfe\u001b[49m\u001b[38;5;241;43m.\u001b[39;49m\u001b[43mTFE_Py_Execute\u001b[49m\u001b[43m(\u001b[49m\u001b[43mctx\u001b[49m\u001b[38;5;241;43m.\u001b[39;49m\u001b[43m_handle\u001b[49m\u001b[43m,\u001b[49m\u001b[43m \u001b[49m\u001b[43mdevice_name\u001b[49m\u001b[43m,\u001b[49m\u001b[43m \u001b[49m\u001b[43mop_name\u001b[49m\u001b[43m,\u001b[49m\n\u001b[0;32m     53\u001b[0m \u001b[43m                                      \u001b[49m\u001b[43minputs\u001b[49m\u001b[43m,\u001b[49m\u001b[43m \u001b[49m\u001b[43mattrs\u001b[49m\u001b[43m,\u001b[49m\u001b[43m \u001b[49m\u001b[43mnum_outputs\u001b[49m\u001b[43m)\u001b[49m\n\u001b[0;32m     54\u001b[0m \u001b[38;5;28;01mexcept\u001b[39;00m core\u001b[38;5;241m.\u001b[39m_NotOkStatusException \u001b[38;5;28;01mas\u001b[39;00m e:\n\u001b[0;32m     55\u001b[0m   \u001b[38;5;28;01mif\u001b[39;00m name \u001b[38;5;129;01mis\u001b[39;00m \u001b[38;5;129;01mnot\u001b[39;00m \u001b[38;5;28;01mNone\u001b[39;00m:\n",
      "\u001b[1;31mKeyboardInterrupt\u001b[0m: "
     ]
    }
   ],
   "source": [
    "training_logs = cnn_model.fit(\n",
    "    train_dataset,\n",
    "    steps_per_epoch=train_steps_per_epoch,\n",
    "    epochs=20,\n",
    "    validation_data=val_dataset,\n",
    "    validation_steps=val_steps_per_epoch,\n",
    "    callbacks=callbacks\n",
    ")"
   ]
  },
  {
   "cell_type": "code",
   "execution_count": null,
   "id": "278e7bc8",
   "metadata": {},
   "outputs": [],
   "source": [
    "test_loss, test_accuracy = cnn_model.evaluate(test_dataset, steps=len(test_files) // BATCH_SIZE)\n",
    "print(\"Test Accuracy:\", test_accuracy)"
   ]
  },
  {
   "cell_type": "code",
   "execution_count": 42,
   "id": "be8f1d50",
   "metadata": {},
   "outputs": [],
   "source": [
    "def create_encoder(input_shape, bottleneck_size):\n",
    "    input_img = Input(shape=input_shape)  \n",
    "    enc = Conv2D(32, (3, 3), activation='relu', padding='same')(input_img)\n",
    "    enc = se_block_enc(enc,20)\n",
    "    enc = MaxPooling2D((2, 2), padding='same')(enc)\n",
    "    enc = Conv2D(64, (3, 3), activation='relu', padding='same')(enc)\n",
    "    enc = se_block_enc(enc,30)\n",
    "    enc = MaxPooling2D((2, 2), padding='same')(enc)\n",
    "    enc = Conv2D(128, (3, 3), activation='relu', padding='same')(enc)\n",
    "    enc = se_block_enc(enc,50)\n",
    "    enc = MaxPooling2D((2, 2), padding='same')(enc)\n",
    "    encoded = Conv2D(bottleneck_size[-1], (1, 1), activation='relu', padding='same')(enc)\n",
    "    encoder = Model(input_img, encoded)\n",
    "\n",
    "    return encoder\n",
    "\n",
    "def create_decoder(bottleneck_size, output_shape):\n",
    "    direct_input = Input(shape=bottleneck_size)\n",
    "    dec = Conv2D(128, (1, 1), activation='relu', padding='same')(direct_input)\n",
    "    dec = UpSampling2D((2, 2))(dec)\n",
    "    dec = Conv2D(128, (3, 3), activation='relu', padding='same')(dec)\n",
    "    dec = UpSampling2D((2, 2))(dec)\n",
    "    dec = Conv2D(64, (3, 3), activation='relu', padding='same')(dec)\n",
    "    dec = UpSampling2D((2, 2))(dec)\n",
    "    dec = Conv2D(32, (3, 3), activation='relu', padding='same')(dec)\n",
    "    dec = Conv2D(192, (3, 3), activation='relu', padding='same')(dec)\n",
    "    decoded = Conv2D(output_shape[-1], (3, 3), activation='sigmoid', padding='same')(dec)\n",
    "    decoder = Model(direct_input, decoded)\n",
    "    return decoder\n"
   ]
  },
  {
   "cell_type": "code",
   "execution_count": 43,
   "id": "2a6f29c8",
   "metadata": {},
   "outputs": [],
   "source": [
    "def se_block(inputs,alpha):\n",
    "    input_channels = inputs.shape[-1]\n",
    "    x = tf.keras.layers.GlobalAveragePooling2D()(inputs)\n",
    "    x = tf.keras.layers.Dense(units=alpha, activation=\"relu\")(x)    \n",
    "    x = tf.keras.layers.Dense(units=input_channels, activation=\"sigmoid\")(x)    \n",
    "    x = tf.reshape(x, [-1, 1, 1, input_channels])\n",
    "    x = inputs * x\n",
    "    return x"
   ]
  },
  {
   "cell_type": "markdown",
   "id": "0648c0a3",
   "metadata": {},
   "source": [
    "https://medium.com/@Vinoth-Ramadoss/squeeze-and-excitation-networks-84e3db0e04e2"
   ]
  },
  {
   "cell_type": "code",
   "execution_count": null,
   "id": "98eefee6",
   "metadata": {},
   "outputs": [],
   "source": [
    "image_a"
   ]
  }
 ],
 "metadata": {
  "kernelspec": {
   "display_name": "Python 3 (ipykernel)",
   "language": "python",
   "name": "python3"
  },
  "language_info": {
   "codemirror_mode": {
    "name": "ipython",
    "version": 3
   },
   "file_extension": ".py",
   "mimetype": "text/x-python",
   "name": "python",
   "nbconvert_exporter": "python",
   "pygments_lexer": "ipython3",
   "version": "3.9.13"
  }
 },
 "nbformat": 4,
 "nbformat_minor": 5
}
