{
 "cells": [
  {
   "cell_type": "code",
   "execution_count": 1,
   "id": "a5e8d85d",
   "metadata": {},
   "outputs": [],
   "source": [
    "%matplotlib inline "
   ]
  },
  {
   "cell_type": "code",
   "execution_count": 25,
   "id": "9fcac663",
   "metadata": {},
   "outputs": [],
   "source": [
    "import numpy as np\n",
    "import pandas as pd\n",
    "import matplotlib.pyplot as plt \n",
    "\n",
    "import tensorflow as tf\n",
    "from sklearn.model_selection import train_test_split\n",
    "from sklearn.preprocessing import MinMaxScaler\n",
    "from sklearn.preprocessing import LabelEncoder\n",
    "\n",
    "from tensorflow.keras.models import Sequential\n",
    "from tensorflow.keras.regularizers import L2, L1, L1L2\n",
    "from tensorflow.keras.layers import Input, Reshape, Conv2D, MaxPool2D, MaxPooling2D, Flatten, Dense, Dropout, BatchNormalization\n",
    "from tensorflow.keras.callbacks import TensorBoard\n",
    "\n",
    "from tensorflow.keras.applications.vgg19 import preprocess_input\n",
    "from tensorflow.keras.applications.vgg19 import VGG19\n",
    "from tensorflow.keras.datasets import mnist"
   ]
  },
  {
   "cell_type": "code",
   "execution_count": 23,
   "id": "917e1a7a",
   "metadata": {},
   "outputs": [],
   "source": [
    "mode = Sequential([\n",
    "    Input(shape = (20, 20, 3)),\n",
    "    Conv2D(filters = 32, kernel_size = (3,3), padding= \"same\", activation= \"relu\"),\n",
    "    Conv2D(filters = 32, kernel_size = (3,3), padding= \"same\", activation= \"relu\"),\n",
    "    MaxPool2D(),\n",
    "    Conv2D(filters = 16, kernel_size = (3,3), padding= \"same\", activation= \"relu\"),\n",
    "    Conv2D(filters = 16, kernel_size = (3,3), padding= \"same\", activation= \"relu\"),\n",
    "    MaxPool2D(),\n",
    "    Conv2D(filters = 3, kernel_size = (1,1), padding= \"same\", activation= \"relu\"),\n",
    "    MaxPool2D(),\n",
    "    Flatten(),\n",
    "])"
   ]
  },
  {
   "cell_type": "code",
   "execution_count": 13,
   "id": "d8380086",
   "metadata": {},
   "outputs": [
    {
     "name": "stdout",
     "output_type": "stream",
     "text": [
      "Model: \"sequential_2\"\n",
      "_________________________________________________________________\n",
      " Layer (type)                Output Shape              Param #   \n",
      "=================================================================\n",
      " conv2d_12 (Conv2D)          (None, 20, 20, 32)        896       \n",
      "                                                                 \n",
      " conv2d_13 (Conv2D)          (None, 20, 20, 32)        9248      \n",
      "                                                                 \n",
      " max_pooling2d_3 (MaxPooling  (None, 10, 10, 32)       0         \n",
      " 2D)                                                             \n",
      "                                                                 \n",
      " conv2d_14 (Conv2D)          (None, 10, 10, 16)        4624      \n",
      "                                                                 \n",
      " conv2d_15 (Conv2D)          (None, 10, 10, 16)        2320      \n",
      "                                                                 \n",
      " max_pooling2d_4 (MaxPooling  (None, 5, 5, 16)         0         \n",
      " 2D)                                                             \n",
      "                                                                 \n",
      " conv2d_16 (Conv2D)          (None, 5, 5, 3)           51        \n",
      "                                                                 \n",
      " max_pooling2d_5 (MaxPooling  (None, 2, 2, 3)          0         \n",
      " 2D)                                                             \n",
      "                                                                 \n",
      " flatten_2 (Flatten)         (None, 12)                0         \n",
      "                                                                 \n",
      "=================================================================\n",
      "Total params: 17,139\n",
      "Trainable params: 17,139\n",
      "Non-trainable params: 0\n",
      "_________________________________________________________________\n"
     ]
    }
   ],
   "source": [
    "mode.summary()"
   ]
  },
  {
   "cell_type": "code",
   "execution_count": 15,
   "id": "39283adb",
   "metadata": {},
   "outputs": [
    {
     "data": {
      "text/plain": [
       "(16,)"
      ]
     },
     "execution_count": 15,
     "metadata": {},
     "output_type": "execute_result"
    }
   ],
   "source": [
    "mode.layers[4].bias.numpy().shape"
   ]
  },
  {
   "cell_type": "code",
   "execution_count": 16,
   "id": "d2281444",
   "metadata": {},
   "outputs": [
    {
     "data": {
      "text/plain": [
       "[]"
      ]
     },
     "execution_count": 16,
     "metadata": {},
     "output_type": "execute_result"
    }
   ],
   "source": [
    "mode.layers[2].weights"
   ]
  },
  {
   "cell_type": "code",
   "execution_count": 18,
   "id": "93420060",
   "metadata": {},
   "outputs": [],
   "source": [
    "random_images = np.random.uniform(size = (5,20,20,3))"
   ]
  },
  {
   "cell_type": "code",
   "execution_count": 20,
   "id": "70ae6a2b",
   "metadata": {},
   "outputs": [
    {
     "name": "stdout",
     "output_type": "stream",
     "text": [
      "1/1 [==============================] - 0s 273ms/step\n"
     ]
    },
    {
     "data": {
      "text/plain": [
       "array([[0.        , 0.00121315, 0.28062317, 0.        , 0.00883468,\n",
       "        0.24489883, 0.        , 0.        , 0.2547155 , 0.00541789,\n",
       "        0.        , 0.27231777],\n",
       "       [0.        , 0.01033205, 0.28753564, 0.        , 0.        ,\n",
       "        0.23893285, 0.        , 0.        , 0.21307577, 0.0588941 ,\n",
       "        0.08030827, 0.27195632],\n",
       "       [0.        , 0.        , 0.24856582, 0.0129963 , 0.00240861,\n",
       "        0.23474512, 0.        , 0.01423612, 0.2647851 , 0.        ,\n",
       "        0.        , 0.26272124],\n",
       "       [0.        , 0.04053493, 0.22427014, 0.        , 0.        ,\n",
       "        0.23270196, 0.        , 0.02255479, 0.22674549, 0.01777899,\n",
       "        0.04349647, 0.24135214],\n",
       "       [0.00998496, 0.00698785, 0.235355  , 0.        , 0.        ,\n",
       "        0.25072056, 0.        , 0.0196792 , 0.25035948, 0.        ,\n",
       "        0.0034687 , 0.24923417]], dtype=float32)"
      ]
     },
     "execution_count": 20,
     "metadata": {},
     "output_type": "execute_result"
    }
   ],
   "source": [
    "mode.predict(random_images)"
   ]
  },
  {
   "cell_type": "code",
   "execution_count": 26,
   "id": "f2b2444c",
   "metadata": {
    "scrolled": true
   },
   "outputs": [
    {
     "name": "stdout",
     "output_type": "stream",
     "text": [
      "Downloading data from https://storage.googleapis.com/tensorflow/keras-applications/vgg19/vgg19_weights_tf_dim_ordering_tf_kernels.h5\n",
      "574710816/574710816 [==============================] - 20s 0us/step\n"
     ]
    }
   ],
   "source": [
    "vgg19 = VGG19()"
   ]
  },
  {
   "cell_type": "code",
   "execution_count": 27,
   "id": "40df5949",
   "metadata": {},
   "outputs": [
    {
     "name": "stdout",
     "output_type": "stream",
     "text": [
      "Model: \"vgg19\"\n",
      "_________________________________________________________________\n",
      " Layer (type)                Output Shape              Param #   \n",
      "=================================================================\n",
      " input_9 (InputLayer)        [(None, 224, 224, 3)]     0         \n",
      "                                                                 \n",
      " block1_conv1 (Conv2D)       (None, 224, 224, 64)      1792      \n",
      "                                                                 \n",
      " block1_conv2 (Conv2D)       (None, 224, 224, 64)      36928     \n",
      "                                                                 \n",
      " block1_pool (MaxPooling2D)  (None, 112, 112, 64)      0         \n",
      "                                                                 \n",
      " block2_conv1 (Conv2D)       (None, 112, 112, 128)     73856     \n",
      "                                                                 \n",
      " block2_conv2 (Conv2D)       (None, 112, 112, 128)     147584    \n",
      "                                                                 \n",
      " block2_pool (MaxPooling2D)  (None, 56, 56, 128)       0         \n",
      "                                                                 \n",
      " block3_conv1 (Conv2D)       (None, 56, 56, 256)       295168    \n",
      "                                                                 \n",
      " block3_conv2 (Conv2D)       (None, 56, 56, 256)       590080    \n",
      "                                                                 \n",
      " block3_conv3 (Conv2D)       (None, 56, 56, 256)       590080    \n",
      "                                                                 \n",
      " block3_conv4 (Conv2D)       (None, 56, 56, 256)       590080    \n",
      "                                                                 \n",
      " block3_pool (MaxPooling2D)  (None, 28, 28, 256)       0         \n",
      "                                                                 \n",
      " block4_conv1 (Conv2D)       (None, 28, 28, 512)       1180160   \n",
      "                                                                 \n",
      " block4_conv2 (Conv2D)       (None, 28, 28, 512)       2359808   \n",
      "                                                                 \n",
      " block4_conv3 (Conv2D)       (None, 28, 28, 512)       2359808   \n",
      "                                                                 \n",
      " block4_conv4 (Conv2D)       (None, 28, 28, 512)       2359808   \n",
      "                                                                 \n",
      " block4_pool (MaxPooling2D)  (None, 14, 14, 512)       0         \n",
      "                                                                 \n",
      " block5_conv1 (Conv2D)       (None, 14, 14, 512)       2359808   \n",
      "                                                                 \n",
      " block5_conv2 (Conv2D)       (None, 14, 14, 512)       2359808   \n",
      "                                                                 \n",
      " block5_conv3 (Conv2D)       (None, 14, 14, 512)       2359808   \n",
      "                                                                 \n",
      " block5_conv4 (Conv2D)       (None, 14, 14, 512)       2359808   \n",
      "                                                                 \n",
      " block5_pool (MaxPooling2D)  (None, 7, 7, 512)         0         \n",
      "                                                                 \n",
      " flatten (Flatten)           (None, 25088)             0         \n",
      "                                                                 \n",
      " fc1 (Dense)                 (None, 4096)              102764544 \n",
      "                                                                 \n",
      " fc2 (Dense)                 (None, 4096)              16781312  \n",
      "                                                                 \n",
      " predictions (Dense)         (None, 1000)              4097000   \n",
      "                                                                 \n",
      "=================================================================\n",
      "Total params: 143,667,240\n",
      "Trainable params: 143,667,240\n",
      "Non-trainable params: 0\n",
      "_________________________________________________________________\n"
     ]
    }
   ],
   "source": [
    "vgg19.summary()"
   ]
  }
 ],
 "metadata": {
  "kernelspec": {
   "display_name": "Python 3 (ipykernel)",
   "language": "python",
   "name": "python3"
  },
  "language_info": {
   "codemirror_mode": {
    "name": "ipython",
    "version": 3
   },
   "file_extension": ".py",
   "mimetype": "text/x-python",
   "name": "python",
   "nbconvert_exporter": "python",
   "pygments_lexer": "ipython3",
   "version": "3.9.13"
  }
 },
 "nbformat": 4,
 "nbformat_minor": 5
}
