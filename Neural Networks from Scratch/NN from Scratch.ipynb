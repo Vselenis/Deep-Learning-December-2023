{
 "cells": [
  {
   "cell_type": "code",
   "execution_count": 111,
   "id": "79bae779",
   "metadata": {},
   "outputs": [],
   "source": [
    "import numpy as np"
   ]
  },
  {
   "cell_type": "code",
   "execution_count": 112,
   "id": "4b761e5b",
   "metadata": {},
   "outputs": [],
   "source": [
    "inputs = [[1,2,3,2.5],\n",
    "          [2.0,5.0,-1.0,2.0],\n",
    "          [-1.5,2.7,3.3,-0.8]]"
   ]
  },
  {
   "cell_type": "code",
   "execution_count": 113,
   "id": "9610f34f",
   "metadata": {},
   "outputs": [],
   "source": [
    "weights =[[0.2, 0.8, -0.5, 1.0],\n",
    "          [0.5, -0.91, 0.26, -0.5],\n",
    "          [-0.26, -0.27, 0.17, 0.87]]"
   ]
  },
  {
   "cell_type": "code",
   "execution_count": 114,
   "id": "a53f1b9c",
   "metadata": {},
   "outputs": [],
   "source": [
    "biases = [2,3,0.5] "
   ]
  },
  {
   "cell_type": "code",
   "execution_count": 115,
   "id": "0f86979f",
   "metadata": {},
   "outputs": [
    {
     "data": {
      "text/plain": [
       "array([[ 4.8  ,  0.21 ,  3.885],\n",
       "       [ 8.9  , -2.81 ,  1.7  ],\n",
       "       [ 1.41 ,  0.051,  1.526]])"
      ]
     },
     "execution_count": 115,
     "metadata": {},
     "output_type": "execute_result"
    }
   ],
   "source": [
    "output"
   ]
  },
  {
   "cell_type": "code",
   "execution_count": 127,
   "id": "c4ba5320",
   "metadata": {},
   "outputs": [
    {
     "ename": "TypeError",
     "evalue": "can't multiply sequence by non-int of type 'float'",
     "output_type": "error",
     "traceback": [
      "\u001b[1;31m---------------------------------------------------------------------------\u001b[0m",
      "\u001b[1;31mTypeError\u001b[0m                                 Traceback (most recent call last)",
      "Input \u001b[1;32mIn [127]\u001b[0m, in \u001b[0;36m<cell line: 3>\u001b[1;34m()\u001b[0m\n\u001b[0;32m      4\u001b[0m neuron_output \u001b[38;5;241m=\u001b[39m \u001b[38;5;241m0\u001b[39m\n\u001b[0;32m      5\u001b[0m \u001b[38;5;28;01mfor\u001b[39;00m n_input, weight \u001b[38;5;129;01min\u001b[39;00m \u001b[38;5;28mzip\u001b[39m(inputs, neuron_weights):\n\u001b[1;32m----> 6\u001b[0m     neuron_output \u001b[38;5;241m+\u001b[39m\u001b[38;5;241m=\u001b[39m \u001b[43mn_input\u001b[49m\u001b[38;5;241;43m*\u001b[39;49m\u001b[43mweight\u001b[49m\n\u001b[0;32m      7\u001b[0m     layer_output\u001b[38;5;241m.\u001b[39mappend(neuron_output)\n",
      "\u001b[1;31mTypeError\u001b[0m: can't multiply sequence by non-int of type 'float'"
     ]
    }
   ],
   "source": [
    "layer_output = []\n",
    "\n",
    "for neuron_weights, neuron_bias in zip(weights, biases):\n",
    "    neuron_output = 0\n",
    "    for n_input, weight in zip(inputs, neuron_weights):\n",
    "        neuron_output += n_input*weight\n",
    "        layer_output.append(neuron_output)"
   ]
  },
  {
   "cell_type": "code",
   "execution_count": 121,
   "id": "c035304c",
   "metadata": {},
   "outputs": [],
   "source": [
    "weights2 =[[0.1, -0.14, 0.5],\n",
    "          [-0.5, 0.12, -0.33],\n",
    "          [-0.44, 0.73, -0.13]]"
   ]
  },
  {
   "cell_type": "code",
   "execution_count": 122,
   "id": "5c5b173b",
   "metadata": {},
   "outputs": [],
   "source": [
    "biases2 = [-1, 2, -0.5]"
   ]
  },
  {
   "cell_type": "code",
   "execution_count": 125,
   "id": "1ffa43a0",
   "metadata": {},
   "outputs": [],
   "source": [
    "layer1_outputs = np.dot(inputs, np.array(weights).T) + biases\n",
    "layer2_outputs = np.dot(layer1_outputs, np.array(weights2).T) + biases2"
   ]
  },
  {
   "cell_type": "code",
   "execution_count": 126,
   "id": "84967e51",
   "metadata": {},
   "outputs": [
    {
     "data": {
      "text/plain": [
       "array([[ 0.5031 , -1.04185, -2.03875],\n",
       "       [ 0.2434 , -2.7332 , -5.7633 ],\n",
       "       [-0.99314,  1.41254, -0.35655]])"
      ]
     },
     "execution_count": 126,
     "metadata": {},
     "output_type": "execute_result"
    }
   ],
   "source": [
    "layer2_outputs"
   ]
  },
  {
   "cell_type": "markdown",
   "id": "fa297cfd",
   "metadata": {},
   "source": [
    "# Layers"
   ]
  },
  {
   "cell_type": "code",
   "execution_count": 130,
   "id": "a5acf57a",
   "metadata": {},
   "outputs": [],
   "source": [
    "np.random.seed(0)"
   ]
  },
  {
   "cell_type": "code",
   "execution_count": 129,
   "id": "28a2260a",
   "metadata": {},
   "outputs": [],
   "source": [
    "x = [[1,2,3,2.5],\n",
    "    [2.0,5.0,-1.0,2.0],\n",
    "    [-1.5,2.7,3.3,-0.8]]"
   ]
  },
  {
   "cell_type": "code",
   "execution_count": 133,
   "id": "b670ee66",
   "metadata": {},
   "outputs": [],
   "source": [
    "class Layer_Dense:\n",
    "    def __init__(self, n_inputs, n_neurons):\n",
    "        self.weights = 0.10 * np.random.randn(n_inputs, n_neurons)\n",
    "        self.biases = np.zeros((1, n_neurons))\n",
    "        \n",
    "    def forward(self, inputs):\n",
    "        self.output = np.dot(inputs, self.weights) + self.biases\n",
    "        \n",
    "layer1 = Layer_Dense(4, 5)\n",
    "layer2 = Layer_Dense(5, 2)"
   ]
  },
  {
   "cell_type": "code",
   "execution_count": 135,
   "id": "6f8e067f",
   "metadata": {},
   "outputs": [
    {
     "data": {
      "text/plain": [
       "array([[-0.46060065,  0.49553499,  0.08326609, -0.4587313 ,  0.34089788],\n",
       "       [-1.22200575,  0.36184486,  0.40854986,  0.73857089,  1.16296097],\n",
       "       [ 0.02889447, -0.05931761, -0.56936475, -0.09750155, -0.03436311]])"
      ]
     },
     "execution_count": 135,
     "metadata": {},
     "output_type": "execute_result"
    }
   ],
   "source": [
    "layer1.forward(x)\n",
    "layer1.output"
   ]
  },
  {
   "cell_type": "code",
   "execution_count": 136,
   "id": "b95a32a0",
   "metadata": {},
   "outputs": [
    {
     "data": {
      "text/plain": [
       "array([[-0.03804671,  0.115508  ],\n",
       "       [-0.23464641,  0.2588996 ],\n",
       "       [ 0.05387005,  0.0024182 ]])"
      ]
     },
     "execution_count": 136,
     "metadata": {},
     "output_type": "execute_result"
    }
   ],
   "source": [
    "layer2.forward(layer1.output)\n",
    "layer2.output"
   ]
  }
 ],
 "metadata": {
  "kernelspec": {
   "display_name": "Python 3 (ipykernel)",
   "language": "python",
   "name": "python3"
  },
  "language_info": {
   "codemirror_mode": {
    "name": "ipython",
    "version": 3
   },
   "file_extension": ".py",
   "mimetype": "text/x-python",
   "name": "python",
   "nbconvert_exporter": "python",
   "pygments_lexer": "ipython3",
   "version": "3.9.13"
  }
 },
 "nbformat": 4,
 "nbformat_minor": 5
}
