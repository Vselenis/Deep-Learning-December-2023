{
 "cells": [
  {
   "cell_type": "code",
   "execution_count": null,
   "id": "79bae779",
   "metadata": {},
   "outputs": [],
   "source": [
    "import numpy as np"
   ]
  },
  {
   "cell_type": "code",
   "execution_count": null,
   "id": "4b761e5b",
   "metadata": {},
   "outputs": [],
   "source": [
    "inputs = [[1,2,3,2.5],\n",
    "          [2.0,5.0,-1.0,2.0],\n",
    "          [-1.5,2.7,3.3,-0.8]]"
   ]
  },
  {
   "cell_type": "code",
   "execution_count": null,
   "id": "9610f34f",
   "metadata": {},
   "outputs": [],
   "source": [
    "weights =[[0.2, 0.8, -0.5, 1.0],\n",
    "          [0.5, -0.91, 0.26, -0.5],\n",
    "          [-0.26, -0.27, 0.17, 0.87]]"
   ]
  },
  {
   "cell_type": "code",
   "execution_count": null,
   "id": "a53f1b9c",
   "metadata": {},
   "outputs": [],
   "source": [
    "biases = [2,3,0.5] "
   ]
  },
  {
   "cell_type": "code",
   "execution_count": null,
   "id": "c4ba5320",
   "metadata": {},
   "outputs": [],
   "source": [
    "##ayer_output = []\n",
    "\n",
    "#for neuron_weights, neuron_bias in zip(weights, biases):\n",
    "#    neuron_output = 0\n",
    "#    for n_input, weight in zip(inputs, neuron_weights):\n",
    "#        neuron_output += n_input*weight\n",
    "#        layer_output.append(neuron_output)"
   ]
  },
  {
   "cell_type": "code",
   "execution_count": null,
   "id": "c035304c",
   "metadata": {},
   "outputs": [],
   "source": [
    "weights2 =[[0.1, -0.14, 0.5],\n",
    "          [-0.5, 0.12, -0.33],\n",
    "          [-0.44, 0.73, -0.13]]"
   ]
  },
  {
   "cell_type": "code",
   "execution_count": null,
   "id": "5c5b173b",
   "metadata": {},
   "outputs": [],
   "source": [
    "biases2 = [-1, 2, -0.5]"
   ]
  },
  {
   "cell_type": "code",
   "execution_count": null,
   "id": "1ffa43a0",
   "metadata": {},
   "outputs": [],
   "source": [
    "layer1_outputs = np.dot(inputs, np.array(weights).T) + biases\n",
    "layer2_outputs = np.dot(layer1_outputs, np.array(weights2).T) + biases2"
   ]
  },
  {
   "cell_type": "code",
   "execution_count": null,
   "id": "84967e51",
   "metadata": {},
   "outputs": [],
   "source": [
    "layer2_outputs"
   ]
  },
  {
   "cell_type": "markdown",
   "id": "fa297cfd",
   "metadata": {},
   "source": [
    "# Layers"
   ]
  },
  {
   "cell_type": "code",
   "execution_count": null,
   "id": "a5acf57a",
   "metadata": {},
   "outputs": [],
   "source": [
    "np.random.seed(0)"
   ]
  },
  {
   "cell_type": "code",
   "execution_count": null,
   "id": "28a2260a",
   "metadata": {},
   "outputs": [],
   "source": [
    "x = [[1,2,3,2.5],\n",
    "    [2.0,5.0,-1.0,2.0],\n",
    "    [-1.5,2.7,3.3,-0.8]]"
   ]
  },
  {
   "cell_type": "code",
   "execution_count": null,
   "id": "b670ee66",
   "metadata": {},
   "outputs": [],
   "source": [
    "class Layer_Dense:\n",
    "    def __init__(self, n_inputs, n_neurons):\n",
    "        self.weights = 0.10 * np.random.randn(n_inputs, n_neurons)\n",
    "        self.biases = np.zeros((1, n_neurons))\n",
    "        \n",
    "    def forward(self, inputs):\n",
    "        self.output = np.dot(inputs, self.weights) + self.biases\n",
    "        \n",
    "layer1 = Layer_Dense(4, 5)\n",
    "layer2 = Layer_Dense(5, 2)"
   ]
  },
  {
   "cell_type": "code",
   "execution_count": null,
   "id": "6f8e067f",
   "metadata": {},
   "outputs": [],
   "source": [
    "layer1.forward(x)\n",
    "layer1.output"
   ]
  },
  {
   "cell_type": "code",
   "execution_count": null,
   "id": "b95a32a0",
   "metadata": {},
   "outputs": [],
   "source": [
    "layer2.forward(layer1.output)\n",
    "layer2.output"
   ]
  }
 ],
 "metadata": {
  "kernelspec": {
   "display_name": "Python 3 (ipykernel)",
   "language": "python",
   "name": "python3"
  },
  "language_info": {
   "codemirror_mode": {
    "name": "ipython",
    "version": 3
   },
   "file_extension": ".py",
   "mimetype": "text/x-python",
   "name": "python",
   "nbconvert_exporter": "python",
   "pygments_lexer": "ipython3",
   "version": "3.9.13"
  }
 },
 "nbformat": 4,
 "nbformat_minor": 5
}
