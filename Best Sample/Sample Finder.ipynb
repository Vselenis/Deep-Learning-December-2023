{
 "cells": [
  {
   "cell_type": "code",
   "execution_count": 1,
   "id": "cf5abe95",
   "metadata": {},
   "outputs": [],
   "source": [
    "import pandas as pd\n",
    "import numpy as np\n",
    "from scipy.optimize import dual_annealing\n",
    "from openpyxl import load_workbook"
   ]
  },
  {
   "cell_type": "code",
   "execution_count": 2,
   "id": "05130a6e",
   "metadata": {},
   "outputs": [],
   "source": [
    "# Function to import the data from the Excel file\n",
    "def load_datasets(filename='benchmark_target.xlsx'):\n",
    "    df_benchmark = pd.read_excel(filename, sheet_name='Benchmark')\n",
    "    df_target = pd.read_excel(filename, sheet_name='Target')\n",
    "    return df_benchmark, df_target"
   ]
  },
  {
   "cell_type": "code",
   "execution_count": 3,
   "id": "23df626d",
   "metadata": {},
   "outputs": [],
   "source": [
    "# Function to calculate the necessary metrics for both datasets\n",
    "def calculate_metrics(df, target_size, weights):\n",
    "    clients_with_payments = df['LP'].notnull().sum() / len(df)  # % of clients with payments\n",
    "    total_paid = df['Payments'].sum()  # Total paid\n",
    "    total_debt = df['Deb'].sum()  # Total debt\n",
    "    collection_percentage = total_paid / (total_debt + total_paid) if total_debt + total_paid != 0 else 0  # % of collection\n",
    "\n",
    "    averages = df.mean(skipna=True)  # Calculate averages for all columns, skipping empty cells\n",
    "\n",
    "    return {\n",
    "        'Deb': averages['Deb'],\n",
    "        'GR': averages['GR'],\n",
    "        'DPD': averages['DPD'],\n",
    "        'LP': averages['LP'],  # Average of LP column\n",
    "        'collection': collection_percentage,  # % of collection\n",
    "        'payments': clients_with_payments  # % of clients with payments\n",
    "    }"
   ]
  },
  {
   "cell_type": "code",
   "execution_count": 4,
   "id": "cf7f2ccc",
   "metadata": {},
   "outputs": [],
   "source": [
    "# Objective function to minimize the difference between benchmark and target metrics\n",
    "def objective_function(x, df_benchmark, df_target, target_metrics, weights):\n",
    "    selected_indices = [int(i) for i in x]  # Convert row numbers to integers\n",
    "    sample = df_benchmark.iloc[selected_indices]  # Select rows based on indices\n",
    "\n",
    "    sample_metrics = calculate_metrics(sample, len(selected_indices), weights)  # Calculate metrics for sample\n",
    "\n",
    "    # Calculate the weighted percentage difference\n",
    "    percentage_diff = 0\n",
    "    for key in weights.keys():\n",
    "        percentage_diff += weights[key] * abs((sample_metrics[key] - target_metrics[key]) / target_metrics[key]) * 100\n",
    "\n",
    "    return percentage_diff"
   ]
  },
  {
   "cell_type": "code",
   "execution_count": 5,
   "id": "8d30b973",
   "metadata": {},
   "outputs": [],
   "source": [
    "# Simulated annealing function to find the best rows\n",
    "def simulated_annealing_sampling(df_benchmark, df_target, weights, maxiter=500):\n",
    "    target_metrics = calculate_metrics(df_target, len(df_target), weights)  # Get target metrics\n",
    "    \n",
    "    bounds = [(0, len(df_benchmark) - 1) for _ in range(len(df_target))]  # Define the range for row selection\n",
    "    \n",
    "    result = dual_annealing(objective_function, bounds, args=(df_benchmark, df_target, target_metrics, weights), maxiter=maxiter)\n",
    "    \n",
    "    selected_indices = [int(i) for i in result.x]  # Get the best rows selected\n",
    "    return selected_indices\n"
   ]
  },
  {
   "cell_type": "code",
   "execution_count": 6,
   "id": "f24a4fd6",
   "metadata": {},
   "outputs": [],
   "source": [
    "# Function to write the results to the existing Excel file, adding a new sample column each time\n",
    "def write_results_to_excel(benchmark_df, selected_indices, filename='benchmark_target.xlsx'):\n",
    "    try:\n",
    "        book = load_workbook(filename)\n",
    "    except FileNotFoundError:\n",
    "        print(f\"File {filename} not found.\")\n",
    "        return\n",
    "    \n",
    "    writer = pd.ExcelWriter(filename, engine='openpyxl', mode='a', if_sheet_exists='overlay')\n",
    "\n",
    "    sample_columns = [col for col in benchmark_df.columns if col.startswith('Sample')]\n",
    "    new_sample_col = f'Sample {len(sample_columns) + 1}'  # Create a new column for the current sample\n",
    "\n",
    "    benchmark_df[new_sample_col] = 0  # Default to 0 for all rows\n",
    "    benchmark_df.loc[selected_indices, new_sample_col] = 1  # Set to 1 for selected rows\n",
    "    \n",
    "    benchmark_df.to_excel(writer, sheet_name='Benchmark', index=False)\n",
    "    df_target.to_excel(writer, sheet_name='Target', index=False)\n",
    "\n",
    "    writer.save()"
   ]
  },
  {
   "cell_type": "code",
   "execution_count": 7,
   "id": "d3c0d569",
   "metadata": {},
   "outputs": [
    {
     "ename": "NameError",
     "evalue": "name 'df_target' is not defined",
     "output_type": "error",
     "traceback": [
      "\u001b[1;31m---------------------------------------------------------------------------\u001b[0m",
      "\u001b[1;31mNameError\u001b[0m                                 Traceback (most recent call last)",
      "Input \u001b[1;32mIn [7]\u001b[0m, in \u001b[0;36m<cell line: 22>\u001b[1;34m()\u001b[0m\n\u001b[0;32m     21\u001b[0m \u001b[38;5;66;03m# Run the main function\u001b[39;00m\n\u001b[0;32m     22\u001b[0m \u001b[38;5;28;01mif\u001b[39;00m \u001b[38;5;18m__name__\u001b[39m \u001b[38;5;241m==\u001b[39m \u001b[38;5;124m\"\u001b[39m\u001b[38;5;124m__main__\u001b[39m\u001b[38;5;124m\"\u001b[39m:\n\u001b[1;32m---> 23\u001b[0m     \u001b[43mmain\u001b[49m\u001b[43m(\u001b[49m\u001b[43m)\u001b[49m\n",
      "Input \u001b[1;32mIn [7]\u001b[0m, in \u001b[0;36mmain\u001b[1;34m()\u001b[0m\n\u001b[0;32m     16\u001b[0m selected_indices \u001b[38;5;241m=\u001b[39m simulated_annealing_sampling(df_benchmark, df_target, weights)\n\u001b[0;32m     18\u001b[0m \u001b[38;5;66;03m# Write the results back to the Excel file, adding a new sample column\u001b[39;00m\n\u001b[1;32m---> 19\u001b[0m \u001b[43mwrite_results_to_excel\u001b[49m\u001b[43m(\u001b[49m\u001b[43mdf_benchmark\u001b[49m\u001b[43m,\u001b[49m\u001b[43m \u001b[49m\u001b[43mselected_indices\u001b[49m\u001b[43m)\u001b[49m\n",
      "Input \u001b[1;32mIn [6]\u001b[0m, in \u001b[0;36mwrite_results_to_excel\u001b[1;34m(benchmark_df, selected_indices, filename)\u001b[0m\n\u001b[0;32m     15\u001b[0m benchmark_df\u001b[38;5;241m.\u001b[39mloc[selected_indices, new_sample_col] \u001b[38;5;241m=\u001b[39m \u001b[38;5;241m1\u001b[39m  \u001b[38;5;66;03m# Set to 1 for selected rows\u001b[39;00m\n\u001b[0;32m     17\u001b[0m benchmark_df\u001b[38;5;241m.\u001b[39mto_excel(writer, sheet_name\u001b[38;5;241m=\u001b[39m\u001b[38;5;124m'\u001b[39m\u001b[38;5;124mBenchmark\u001b[39m\u001b[38;5;124m'\u001b[39m, index\u001b[38;5;241m=\u001b[39m\u001b[38;5;28;01mFalse\u001b[39;00m)\n\u001b[1;32m---> 18\u001b[0m \u001b[43mdf_target\u001b[49m\u001b[38;5;241m.\u001b[39mto_excel(writer, sheet_name\u001b[38;5;241m=\u001b[39m\u001b[38;5;124m'\u001b[39m\u001b[38;5;124mTarget\u001b[39m\u001b[38;5;124m'\u001b[39m, index\u001b[38;5;241m=\u001b[39m\u001b[38;5;28;01mFalse\u001b[39;00m)\n\u001b[0;32m     20\u001b[0m writer\u001b[38;5;241m.\u001b[39msave()\n",
      "\u001b[1;31mNameError\u001b[0m: name 'df_target' is not defined"
     ]
    }
   ],
   "source": [
    "# Main function to run the process\n",
    "def main():\n",
    "    df_benchmark, df_target = load_datasets('benchmark_target.xlsx')  # Load datasets from Excel\n",
    "\n",
    "    # Define the column weights\n",
    "    weights = {\n",
    "        'Deb': 0.1,\n",
    "        'GR': 0.2,\n",
    "        'DPD': 0.2,\n",
    "        'LP': 0.2,\n",
    "        'collection': 0.1,\n",
    "        'payments': 0.1\n",
    "    }\n",
    "\n",
    "    # Perform simulated annealing to find the best rows\n",
    "    selected_indices = simulated_annealing_sampling(df_benchmark, df_target, weights)\n",
    "\n",
    "    # Write the results back to the Excel file, adding a new sample column\n",
    "    write_results_to_excel(df_benchmark, selected_indices)\n",
    "\n",
    "# Run the main function\n",
    "if __name__ == \"__main__\":\n",
    "    main()"
   ]
  },
  {
   "cell_type": "code",
   "execution_count": null,
   "id": "99e7dcf2",
   "metadata": {},
   "outputs": [],
   "source": []
  }
 ],
 "metadata": {
  "kernelspec": {
   "display_name": "Python 3 (ipykernel)",
   "language": "python",
   "name": "python3"
  },
  "language_info": {
   "codemirror_mode": {
    "name": "ipython",
    "version": 3
   },
   "file_extension": ".py",
   "mimetype": "text/x-python",
   "name": "python",
   "nbconvert_exporter": "python",
   "pygments_lexer": "ipython3",
   "version": "3.9.13"
  }
 },
 "nbformat": 4,
 "nbformat_minor": 5
}
