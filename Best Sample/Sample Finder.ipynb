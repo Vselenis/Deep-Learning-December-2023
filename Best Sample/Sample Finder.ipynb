{
 "cells": [
  {
   "cell_type": "code",
   "execution_count": 1,
   "id": "624b2d9d",
   "metadata": {},
   "outputs": [],
   "source": [
    "import pandas as pd\n",
    "import numpy as np\n",
    "from scipy.optimize import dual_annealing\n",
    "from openpyxl import load_workbook"
   ]
  },
  {
   "cell_type": "code",
   "execution_count": 8,
   "id": "5252b1cc",
   "metadata": {},
   "outputs": [],
   "source": [
    "# Function to import the data from the Excel file\n",
    "def load_datasets(filename='benchmark_target.xlsx'):\n",
    "    df_benchmark = pd.read_excel(filename, sheet_name='Benchmark')\n",
    "    df_target = pd.read_excel(filename, sheet_name='Target')\n",
    "    return df_benchmark, df_target"
   ]
  },
  {
   "cell_type": "code",
   "execution_count": 9,
   "id": "7592eac0",
   "metadata": {},
   "outputs": [],
   "source": [
    "# Function to calculate the necessary metrics for both datasets\n",
    "def calculate_metrics(df, target_size, weights):\n",
    "    clients_with_payments = df['LP'].notnull().sum() / len(df)  # % of clients with payments\n",
    "    total_paid = df['Payments'].sum()  # Total paid\n",
    "    total_debt = df['Deb'].sum()  # Total debt\n",
    "    collection_percentage = total_paid / (total_debt + total_paid) if total_debt + total_paid != 0 else 0  # % of collection\n",
    "\n",
    "    averages = df.mean(skipna=True)  # Calculate averages for all columns, skipping empty cells\n",
    "\n",
    "    return {\n",
    "        'Deb': averages['Deb'],\n",
    "        'GR': averages['GR'],\n",
    "        'DPD': averages['DPD'],\n",
    "        'LP': averages['LP'],  # Average of LP column\n",
    "        'collection': collection_percentage,  # % of collection\n",
    "        'payments': clients_with_payments  # % of clients with payments\n",
    "    }"
   ]
  },
  {
   "cell_type": "code",
   "execution_count": 10,
   "id": "b4f24c1d",
   "metadata": {},
   "outputs": [],
   "source": [
    "# Objective function to minimize the difference between benchmark and target metrics\n",
    "def objective_function(x, df_benchmark, df_target, target_metrics, weights):\n",
    "    selected_indices = [int(i) for i in x]  # Convert row numbers to integers\n",
    "    sample = df_benchmark.iloc[selected_indices]  # Select rows based on indices\n",
    "\n",
    "    sample_metrics = calculate_metrics(sample, len(selected_indices), weights)  # Calculate metrics for sample\n",
    "\n",
    "    # Calculate the weighted percentage difference\n",
    "    percentage_diff = 0\n",
    "    for key in weights.keys():\n",
    "        percentage_diff += weights[key] * abs((sample_metrics[key] - target_metrics[key]) / target_metrics[key]) * 100\n",
    "\n",
    "    return percentage_diff"
   ]
  },
  {
   "cell_type": "code",
   "execution_count": 11,
   "id": "a71ede2a",
   "metadata": {},
   "outputs": [],
   "source": [
    "# Simulated annealing function to find the best rows\n",
    "def simulated_annealing_sampling(df_benchmark, df_target, weights, maxiter=500):\n",
    "    target_metrics = calculate_metrics(df_target, len(df_target), weights)  # Get target metrics\n",
    "    \n",
    "    bounds = [(0, len(df_benchmark) - 1) for _ in range(len(df_target))]  # Define the range for row selection\n",
    "    \n",
    "    result = dual_annealing(objective_function, bounds, args=(df_benchmark, df_target, target_metrics, weights), maxiter=maxiter)\n",
    "    \n",
    "    selected_indices = [int(i) for i in result.x]  # Get the best rows selected\n",
    "    return selected_indices\n"
   ]
  },
  {
   "cell_type": "code",
   "execution_count": 14,
   "id": "71d9b66c",
   "metadata": {},
   "outputs": [],
   "source": [
    "# Function to write results to Excel, updated to take both df_benchmark and df_target\n",
    "def write_results_to_excel(benchmark_df, target_df, selected_indices, filename='benchmark_target.xlsx'):\n",
    "    with pd.ExcelWriter(filename, mode='a', if_sheet_exists='replace') as writer:\n",
    "        new_sample_col = f'Sample {len(benchmark_df.columns) - 1}'  # For a new sample column\n",
    "\n",
    "        # Add a new column for selected rows\n",
    "        benchmark_df[new_sample_col] = 0\n",
    "        benchmark_df.loc[selected_indices, new_sample_col] = 1  # Set to 1 for selected rows\n",
    "\n",
    "        # Write both DataFrames to separate sheets in the same Excel file\n",
    "        benchmark_df.to_excel(writer, sheet_name='Benchmark', index=False)\n",
    "        target_df.to_excel(writer, sheet_name='Target', index=False)\n",
    "\n",
    "        writer.save()"
   ]
  },
  {
   "cell_type": "code",
   "execution_count": 15,
   "id": "d3c0d569",
   "metadata": {},
   "outputs": [
    {
     "name": "stderr",
     "output_type": "stream",
     "text": [
      "C:\\Users\\Gaming PC\\AppData\\Local\\Temp\\ipykernel_1820\\238021454.py:14: FutureWarning: save is not part of the public API, usage can give unexpected results and will be removed in a future version\n",
      "  writer.save()\n"
     ]
    }
   ],
   "source": [
    "# Main function to run the process\n",
    "def main():\n",
    "    df_benchmark, df_target = load_datasets('benchmark_target.xlsx')  # Load datasets from Excel\n",
    "\n",
    "    # Define the column weights\n",
    "    weights = {\n",
    "        'Deb': 0.1,\n",
    "        'GR': 0.2,\n",
    "        'DPD': 0.2,\n",
    "        'LP': 0.2,\n",
    "        'collection': 0.1,\n",
    "        'payments': 0.1\n",
    "    }\n",
    "\n",
    "    # Perform simulated annealing to find the best rows\n",
    "    selected_indices = simulated_annealing_sampling(df_benchmark, df_target, weights)\n",
    "\n",
    "    # Write the results back to the Excel file, adding a new sample column\n",
    "    write_results_to_excel(df_benchmark, df_target, selected_indices)\n",
    "\n",
    "# Run the main function\n",
    "if __name__ == \"__main__\":\n",
    "    main()"
   ]
  }
 ],
 "metadata": {
  "kernelspec": {
   "display_name": "Python 3 (ipykernel)",
   "language": "python",
   "name": "python3"
  },
  "language_info": {
   "codemirror_mode": {
    "name": "ipython",
    "version": 3
   },
   "file_extension": ".py",
   "mimetype": "text/x-python",
   "name": "python",
   "nbconvert_exporter": "python",
   "pygments_lexer": "ipython3",
   "version": "3.9.13"
  }
 },
 "nbformat": 4,
 "nbformat_minor": 5
}
