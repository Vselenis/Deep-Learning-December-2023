{
 "cells": [
  {
   "cell_type": "code",
   "execution_count": 1,
   "id": "a5e8d85d",
   "metadata": {},
   "outputs": [],
   "source": [
    "%matplotlib inline "
   ]
  },
  {
   "cell_type": "code",
   "execution_count": 2,
   "id": "9fcac663",
   "metadata": {},
   "outputs": [
    {
     "name": "stderr",
     "output_type": "stream",
     "text": [
      "D:\\Python\\AI\\venv\\lib\\site-packages\\scipy\\__init__.py:146: UserWarning: A NumPy version >=1.17.3 and <1.25.0 is required for this version of SciPy (detected version 1.26.2\n",
      "  warnings.warn(f\"A NumPy version >={np_minversion} and <{np_maxversion}\"\n"
     ]
    },
    {
     "name": "stdout",
     "output_type": "stream",
     "text": [
      "WARNING:tensorflow:From D:\\Python\\AI\\venv\\lib\\site-packages\\keras\\src\\losses.py:2976: The name tf.losses.sparse_softmax_cross_entropy is deprecated. Please use tf.compat.v1.losses.sparse_softmax_cross_entropy instead.\n",
      "\n"
     ]
    }
   ],
   "source": [
    "import numpy as np\n",
    "import pandas as pd\n",
    "import matplotlib.pyplot as plt \n",
    "\n",
    "import tensorflow as tf\n",
    "from sklearn.model_selection import train_test_split\n",
    "from sklearn.preprocessing import MinMaxScaler\n",
    "from sklearn.preprocessing import LabelEncoder\n",
    "\n",
    "from tensorflow.keras.models import Sequential\n",
    "from tensorflow.keras.regularizers import L2, L1, L1L2\n",
    "from tensorflow.keras.layers import Input, Reshape, Conv2D, MaxPooling2D, Flatten, Dense, Dropout\n",
    "from tensorflow.keras.callbacks import TensorBoard\n",
    "\n",
    "from tensorflow.keras.datasets import mnist"
   ]
  },
  {
   "cell_type": "code",
   "execution_count": 3,
   "id": "31490078",
   "metadata": {},
   "outputs": [],
   "source": [
    "# tf.config.experimental.set_memory_growth(tf.config.list_physical_devices()[1],True)"
   ]
  },
  {
   "cell_type": "code",
   "execution_count": 4,
   "id": "19f66339",
   "metadata": {},
   "outputs": [],
   "source": [
    "((train_attributes, train_classes), (test_attributes, test_classes)) = mnist.load_data()"
   ]
  },
  {
   "cell_type": "code",
   "execution_count": 5,
   "id": "b80b49e0",
   "metadata": {},
   "outputs": [
    {
     "data": {
      "text/plain": [
       "(60000, 28, 28)"
      ]
     },
     "execution_count": 5,
     "metadata": {},
     "output_type": "execute_result"
    }
   ],
   "source": [
    "train_attributes.shape"
   ]
  },
  {
   "cell_type": "code",
   "execution_count": 6,
   "id": "917e1a7a",
   "metadata": {},
   "outputs": [
    {
     "data": {
      "text/plain": [
       "(10000, 28, 28)"
      ]
     },
     "execution_count": 6,
     "metadata": {},
     "output_type": "execute_result"
    }
   ],
   "source": [
    "test_attributes.shape"
   ]
  },
  {
   "cell_type": "code",
   "execution_count": 7,
   "id": "426f6e08",
   "metadata": {},
   "outputs": [],
   "source": [
    "input_shape = train_attributes[0].shape\n",
    "num_classes = len(set(train_classes))"
   ]
  },
  {
   "cell_type": "code",
   "execution_count": 8,
   "id": "26915210",
   "metadata": {},
   "outputs": [
    {
     "data": {
      "text/plain": [
       "((28, 28), 10)"
      ]
     },
     "execution_count": 8,
     "metadata": {},
     "output_type": "execute_result"
    }
   ],
   "source": [
    "input_shape, num_classes"
   ]
  },
  {
   "cell_type": "code",
   "execution_count": 9,
   "id": "1bc2246d",
   "metadata": {},
   "outputs": [],
   "source": [
    "# model = Sequential([\n",
    "#     Input(input_shape),\n",
    "#     Flatten(),\n",
    "    \n",
    "#     Dense(40, kernel_regularizer= L1L2(l1=0.01, l2=0.001), activation=\"relu\"),\n",
    "#     Dense(30, kernel_regularizer= L1L2(l1=0.0001, l2=0.00001), activation=\"relu\"),\n",
    "#     Dense(20, activation=\"relu\"),\n",
    "#     Dense(num_classes, activation=\"softmax\"),\n",
    "    \n",
    "# ])"
   ]
  },
  {
   "cell_type": "code",
   "execution_count": 10,
   "id": "614bd322",
   "metadata": {},
   "outputs": [
    {
     "name": "stdout",
     "output_type": "stream",
     "text": [
      "WARNING:tensorflow:From D:\\Python\\AI\\venv\\lib\\site-packages\\keras\\src\\backend.py:1398: The name tf.executing_eagerly_outside_functions is deprecated. Please use tf.compat.v1.executing_eagerly_outside_functions instead.\n",
      "\n"
     ]
    }
   ],
   "source": [
    "model = Sequential([\n",
    "    Input(input_shape),\n",
    "    Flatten(),\n",
    "    \n",
    "    Dense(40, activation=\"relu\"),\n",
    "    Dropout(0.04),\n",
    "    Dense(30, activation=\"relu\"),\n",
    "    Dropout(0.05),\n",
    "    Dense(20, activation=\"relu\"),\n",
    "    Dropout(0.02),\n",
    "    Dense(num_classes, activation=\"softmax\"),\n",
    "    \n",
    "])"
   ]
  },
  {
   "cell_type": "code",
   "execution_count": 11,
   "id": "b7a8146c",
   "metadata": {},
   "outputs": [
    {
     "name": "stdout",
     "output_type": "stream",
     "text": [
      "Model: \"sequential\"\n",
      "_________________________________________________________________\n",
      " Layer (type)                Output Shape              Param #   \n",
      "=================================================================\n",
      " flatten (Flatten)           (None, 784)               0         \n",
      "                                                                 \n",
      " dense (Dense)               (None, 40)                31400     \n",
      "                                                                 \n",
      " dropout (Dropout)           (None, 40)                0         \n",
      "                                                                 \n",
      " dense_1 (Dense)             (None, 30)                1230      \n",
      "                                                                 \n",
      " dropout_1 (Dropout)         (None, 30)                0         \n",
      "                                                                 \n",
      " dense_2 (Dense)             (None, 20)                620       \n",
      "                                                                 \n",
      " dropout_2 (Dropout)         (None, 20)                0         \n",
      "                                                                 \n",
      " dense_3 (Dense)             (None, 10)                210       \n",
      "                                                                 \n",
      "=================================================================\n",
      "Total params: 33460 (130.70 KB)\n",
      "Trainable params: 33460 (130.70 KB)\n",
      "Non-trainable params: 0 (0.00 Byte)\n",
      "_________________________________________________________________\n"
     ]
    }
   ],
   "source": [
    "model.summary()"
   ]
  },
  {
   "cell_type": "code",
   "execution_count": 14,
   "id": "79889ca7",
   "metadata": {},
   "outputs": [
    {
     "name": "stdout",
     "output_type": "stream",
     "text": [
      "WARNING:tensorflow:From D:\\Python\\AI\\venv\\lib\\site-packages\\keras\\src\\optimizers\\__init__.py:309: The name tf.train.Optimizer is deprecated. Please use tf.compat.v1.train.Optimizer instead.\n",
      "\n"
     ]
    }
   ],
   "source": [
    "model.compile(loss = \"sparse_categorical_crossentropy\", optimizer = \"adam\")"
   ]
  },
  {
   "cell_type": "code",
   "execution_count": 17,
   "id": "ed1c3a9b",
   "metadata": {},
   "outputs": [
    {
     "name": "stdout",
     "output_type": "stream",
     "text": [
      "Epoch 1/20\n",
      "1688/1688 [==============================] - 5s 3ms/step - loss: 0.1176 - val_loss: 0.1313\n",
      "Epoch 2/20\n",
      "1688/1688 [==============================] - 5s 3ms/step - loss: 0.1131 - val_loss: 0.1264\n",
      "Epoch 3/20\n",
      "1688/1688 [==============================] - 6s 3ms/step - loss: 0.1151 - val_loss: 0.1352\n",
      "Epoch 4/20\n",
      "1688/1688 [==============================] - 5s 3ms/step - loss: 0.1123 - val_loss: 0.1463\n",
      "Epoch 5/20\n",
      "1688/1688 [==============================] - 5s 3ms/step - loss: 0.1115 - val_loss: 0.1421\n",
      "Epoch 6/20\n",
      "1688/1688 [==============================] - 5s 3ms/step - loss: 0.1102 - val_loss: 0.1507\n",
      "Epoch 7/20\n",
      "1688/1688 [==============================] - 6s 3ms/step - loss: 0.1090 - val_loss: 0.1409\n",
      "Epoch 8/20\n",
      "1688/1688 [==============================] - 5s 3ms/step - loss: 0.1101 - val_loss: 0.1375\n",
      "Epoch 9/20\n",
      "1688/1688 [==============================] - 5s 3ms/step - loss: 0.1108 - val_loss: 0.1458\n",
      "Epoch 10/20\n",
      "1688/1688 [==============================] - 5s 3ms/step - loss: 0.1121 - val_loss: 0.1523\n",
      "Epoch 11/20\n",
      "1688/1688 [==============================] - 5s 3ms/step - loss: 0.1069 - val_loss: 0.1320\n",
      "Epoch 12/20\n",
      "1688/1688 [==============================] - 5s 3ms/step - loss: 0.1087 - val_loss: 0.1365\n",
      "Epoch 13/20\n",
      "1688/1688 [==============================] - 5s 3ms/step - loss: 0.1070 - val_loss: 0.1313\n",
      "Epoch 14/20\n",
      "1688/1688 [==============================] - 6s 3ms/step - loss: 0.1058 - val_loss: 0.1424\n",
      "Epoch 15/20\n",
      "1688/1688 [==============================] - 5s 3ms/step - loss: 0.1073 - val_loss: 0.1308\n",
      "Epoch 16/20\n",
      "1688/1688 [==============================] - 5s 3ms/step - loss: 0.1047 - val_loss: 0.1536\n",
      "Epoch 17/20\n",
      "1688/1688 [==============================] - 5s 3ms/step - loss: 0.1059 - val_loss: 0.1518\n",
      "Epoch 18/20\n",
      "1688/1688 [==============================] - 5s 3ms/step - loss: 0.1026 - val_loss: 0.1472\n",
      "Epoch 19/20\n",
      "1688/1688 [==============================] - 5s 3ms/step - loss: 0.1024 - val_loss: 0.1534\n",
      "Epoch 20/20\n",
      "1688/1688 [==============================] - 5s 3ms/step - loss: 0.1051 - val_loss: 0.1483\n"
     ]
    },
    {
     "data": {
      "text/plain": [
       "<keras.src.callbacks.History at 0x189321685b0>"
      ]
     },
     "execution_count": 17,
     "metadata": {},
     "output_type": "execute_result"
    }
   ],
   "source": [
    "model.fit(\n",
    "    train_attributes, \n",
    "    train_classes, \n",
    "    validation_split=0.1, \n",
    "    epochs = 20,\n",
    "    callbacks= [TensorBoard(update_freq=10)]\n",
    ")"
   ]
  },
  {
   "cell_type": "code",
   "execution_count": 22,
   "id": "4a34d895",
   "metadata": {},
   "outputs": [],
   "source": [
    "new_model = Sequential([\n",
    "    Input(shape = (20,)),\n",
    "    Dense(5),\n",
    "    Dense(10),\n",
    "    Dense(2)\n",
    "])"
   ]
  },
  {
   "cell_type": "code",
   "execution_count": 29,
   "id": "ce004cab",
   "metadata": {},
   "outputs": [
    {
     "data": {
      "text/plain": [
       "(array([18., 22., 13., 25., 22.]),\n",
       " array([-0.4876723 , -0.29514313, -0.10261394,  0.08991523,  0.28244442,\n",
       "         0.4749736 ], dtype=float32),\n",
       " <BarContainer object of 5 artists>)"
      ]
     },
     "execution_count": 29,
     "metadata": {},
     "output_type": "execute_result"
    },
    {
     "data": {
      "image/png": "[encoded data removed]",
      "text/plain": [
       "<Figure size 432x288 with 1 Axes>"
      ]
     },
     "metadata": {
      "needs_background": "light"
     },
     "output_type": "display_data"
    }
   ],
   "source": [
    "plt.hist(new_model.layers[0].kernel.numpy().ravel(),bins = \"fd\")"
   ]
  },
  {
   "cell_type": "code",
   "execution_count": null,
   "id": "654312c2",
   "metadata": {},
   "outputs": [],
   "source": []
  },
  {
   "cell_type": "code",
   "execution_count": null,
   "id": "71fbe6ea",
   "metadata": {},
   "outputs": [],
   "source": []
  }
 ],
 "metadata": {
  "kernelspec": {
   "display_name": "Python 3 (ipykernel)",
   "language": "python",
   "name": "python3"
  },
  "language_info": {
   "codemirror_mode": {
    "name": "ipython",
    "version": 3
   },
   "file_extension": ".py",
   "mimetype": "text/x-python",
   "name": "python",
   "nbconvert_exporter": "python",
   "pygments_lexer": "ipython3",
   "version": "3.10.1"
  }
 },
 "nbformat": 4,
 "nbformat_minor": 5
}
