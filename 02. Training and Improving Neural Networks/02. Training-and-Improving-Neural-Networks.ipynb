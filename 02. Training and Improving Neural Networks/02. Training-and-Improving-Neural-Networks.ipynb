{
 "cells": [
  {
   "cell_type": "code",
   "execution_count": 1,
   "id": "a5e8d85d",
   "metadata": {},
   "outputs": [],
   "source": [
    "%matplotlib inline "
   ]
  },
  {
   "cell_type": "code",
   "execution_count": 16,
   "id": "9fcac663",
   "metadata": {},
   "outputs": [],
   "source": [
    "import numpy as np\n",
    "import pandas as pd\n",
    "import matplotlib.pyplot as plt \n",
    "\n",
    "import tensorflow as tf\n",
    "from sklearn.model_selection import train_test_split\n",
    "from sklearn.preprocessing import MinMaxScaler\n",
    "from sklearn.preprocessing import LabelEncoder\n",
    "\n",
    "from tensorflow.keras.models import Sequential\n",
    "from tensorflow.keras.regularizers import L2, L1, L1L2\n",
    "from tensorflow.keras.layers import Input, Reshape, Conv2D, MaxPooling2D, Flatten, Dense, Dropout, BatchNormalization\n",
    "from tensorflow.keras.callbacks import TensorBoard\n",
    "\n",
    "from tensorflow.keras.datasets import mnist"
   ]
  },
  {
   "cell_type": "code",
   "execution_count": 3,
   "id": "31490078",
   "metadata": {},
   "outputs": [],
   "source": [
    "# tf.config.experimental.set_memory_growth(tf.config.list_physical_devices()[1],True)"
   ]
  },
  {
   "cell_type": "code",
   "execution_count": 4,
   "id": "19f66339",
   "metadata": {},
   "outputs": [],
   "source": [
    "((train_attributes, train_classes), (test_attributes, test_classes)) = mnist.load_data()"
   ]
  },
  {
   "cell_type": "code",
   "execution_count": 5,
   "id": "b80b49e0",
   "metadata": {},
   "outputs": [
    {
     "data": {
      "text/plain": [
       "(60000, 28, 28)"
      ]
     },
     "execution_count": 5,
     "metadata": {},
     "output_type": "execute_result"
    }
   ],
   "source": [
    "train_attributes.shape"
   ]
  },
  {
   "cell_type": "code",
   "execution_count": 6,
   "id": "917e1a7a",
   "metadata": {},
   "outputs": [
    {
     "data": {
      "text/plain": [
       "(10000, 28, 28)"
      ]
     },
     "execution_count": 6,
     "metadata": {},
     "output_type": "execute_result"
    }
   ],
   "source": [
    "test_attributes.shape"
   ]
  },
  {
   "cell_type": "code",
   "execution_count": 7,
   "id": "426f6e08",
   "metadata": {},
   "outputs": [],
   "source": [
    "input_shape = train_attributes[0].shape\n",
    "num_classes = len(set(train_classes))"
   ]
  },
  {
   "cell_type": "code",
   "execution_count": 8,
   "id": "26915210",
   "metadata": {},
   "outputs": [
    {
     "data": {
      "text/plain": [
       "((28, 28), 10)"
      ]
     },
     "execution_count": 8,
     "metadata": {},
     "output_type": "execute_result"
    }
   ],
   "source": [
    "input_shape, num_classes"
   ]
  },
  {
   "cell_type": "code",
   "execution_count": 9,
   "id": "1bc2246d",
   "metadata": {},
   "outputs": [],
   "source": [
    "# model = Sequential([\n",
    "#     Input(input_shape),\n",
    "#     Flatten(),\n",
    "    \n",
    "#     Dense(40, kernel_regularizer= L1L2(l1=0.01, l2=0.001), activation=\"relu\"),\n",
    "#     Dense(30, kernel_regularizer= L1L2(l1=0.0001, l2=0.00001), activation=\"relu\"),\n",
    "#     Dense(20, activation=\"relu\"),\n",
    "#     Dense(num_classes, activation=\"softmax\"),\n",
    "    \n",
    "# ])"
   ]
  },
  {
   "cell_type": "code",
   "execution_count": 10,
   "id": "614bd322",
   "metadata": {},
   "outputs": [],
   "source": [
    "model = Sequential([\n",
    "    Input(input_shape),\n",
    "    Flatten(),\n",
    "    \n",
    "    Dense(40, activation=\"relu\"),\n",
    "    Dropout(0.04),\n",
    "    Dense(30, activation=\"relu\"),\n",
    "    Dropout(0.05),\n",
    "    Dense(20, activation=\"relu\"),\n",
    "    Dropout(0.02),\n",
    "    Dense(num_classes, activation=\"softmax\"),\n",
    "    \n",
    "])"
   ]
  },
  {
   "cell_type": "code",
   "execution_count": 11,
   "id": "b7a8146c",
   "metadata": {},
   "outputs": [
    {
     "name": "stdout",
     "output_type": "stream",
     "text": [
      "Model: \"sequential\"\n",
      "_________________________________________________________________\n",
      " Layer (type)                Output Shape              Param #   \n",
      "=================================================================\n",
      " flatten (Flatten)           (None, 784)               0         \n",
      "                                                                 \n",
      " dense (Dense)               (None, 40)                31400     \n",
      "                                                                 \n",
      " dropout (Dropout)           (None, 40)                0         \n",
      "                                                                 \n",
      " dense_1 (Dense)             (None, 30)                1230      \n",
      "                                                                 \n",
      " dropout_1 (Dropout)         (None, 30)                0         \n",
      "                                                                 \n",
      " dense_2 (Dense)             (None, 20)                620       \n",
      "                                                                 \n",
      " dropout_2 (Dropout)         (None, 20)                0         \n",
      "                                                                 \n",
      " dense_3 (Dense)             (None, 10)                210       \n",
      "                                                                 \n",
      "=================================================================\n",
      "Total params: 33,460\n",
      "Trainable params: 33,460\n",
      "Non-trainable params: 0\n",
      "_________________________________________________________________\n"
     ]
    }
   ],
   "source": [
    "model.summary()"
   ]
  },
  {
   "cell_type": "code",
   "execution_count": 12,
   "id": "79889ca7",
   "metadata": {},
   "outputs": [],
   "source": [
    "model.compile(loss = \"sparse_categorical_crossentropy\", optimizer = tf.keras.optimizers.SGD(learning_rate=1))"
   ]
  },
  {
   "cell_type": "code",
   "execution_count": 13,
   "id": "ed1c3a9b",
   "metadata": {},
   "outputs": [
    {
     "name": "stdout",
     "output_type": "stream",
     "text": [
      "Epoch 1/20\n",
      "1688/1688 [==============================] - 7s 3ms/step - loss: 1.6856 - val_loss: 0.6682\n",
      "Epoch 2/20\n",
      "1688/1688 [==============================] - 5s 3ms/step - loss: 0.7444 - val_loss: 0.4627\n",
      "Epoch 3/20\n",
      "1688/1688 [==============================] - 5s 3ms/step - loss: 0.6176 - val_loss: 0.4147\n",
      "Epoch 4/20\n",
      "1688/1688 [==============================] - 5s 3ms/step - loss: 0.5171 - val_loss: 0.2720\n",
      "Epoch 5/20\n",
      "1688/1688 [==============================] - 5s 3ms/step - loss: 0.4007 - val_loss: 0.2305\n",
      "Epoch 6/20\n",
      "1688/1688 [==============================] - 5s 3ms/step - loss: 0.3616 - val_loss: 0.2117\n",
      "Epoch 7/20\n",
      "1688/1688 [==============================] - 5s 3ms/step - loss: 0.3368 - val_loss: 0.2042\n",
      "Epoch 8/20\n",
      "1688/1688 [==============================] - 5s 3ms/step - loss: 0.3216 - val_loss: 0.2126\n",
      "Epoch 9/20\n",
      "1688/1688 [==============================] - 20s 12ms/step - loss: 0.3006 - val_loss: 0.1957\n",
      "Epoch 10/20\n",
      "1688/1688 [==============================] - 10s 6ms/step - loss: 0.2780 - val_loss: 0.2305\n",
      "Epoch 11/20\n",
      "1688/1688 [==============================] - 6s 4ms/step - loss: 0.2619 - val_loss: 0.1807\n",
      "Epoch 12/20\n",
      "1688/1688 [==============================] - 5s 3ms/step - loss: 0.2502 - val_loss: 0.1740\n",
      "Epoch 13/20\n",
      "1688/1688 [==============================] - 4s 3ms/step - loss: 0.2401 - val_loss: 0.1660\n",
      "Epoch 14/20\n",
      "1688/1688 [==============================] - 5s 3ms/step - loss: 0.2289 - val_loss: 0.1670\n",
      "Epoch 15/20\n",
      "1688/1688 [==============================] - 5s 3ms/step - loss: 0.2257 - val_loss: 0.1751\n",
      "Epoch 16/20\n",
      "1688/1688 [==============================] - 5s 3ms/step - loss: 0.2165 - val_loss: 0.1632\n",
      "Epoch 17/20\n",
      "1688/1688 [==============================] - 5s 3ms/step - loss: 0.2091 - val_loss: 0.1680\n",
      "Epoch 18/20\n",
      "1688/1688 [==============================] - 5s 3ms/step - loss: 0.1999 - val_loss: 0.1571\n",
      "Epoch 19/20\n",
      "1688/1688 [==============================] - 5s 3ms/step - loss: 0.1948 - val_loss: 0.1502\n",
      "Epoch 20/20\n",
      "1688/1688 [==============================] - 5s 3ms/step - loss: 0.1914 - val_loss: 0.1511\n"
     ]
    },
    {
     "data": {
      "text/plain": [
       "<keras.callbacks.History at 0x29aee984a60>"
      ]
     },
     "execution_count": 13,
     "metadata": {},
     "output_type": "execute_result"
    }
   ],
   "source": [
    "model.fit(\n",
    "    train_attributes, \n",
    "    train_classes, \n",
    "    validation_split=0.1, \n",
    "    epochs = 20,\n",
    "    callbacks= [TensorBoard(update_freq=10)]\n",
    ")"
   ]
  },
  {
   "cell_type": "code",
   "execution_count": 14,
   "id": "4a34d895",
   "metadata": {},
   "outputs": [],
   "source": [
    "new_model = Sequential([\n",
    "    Input(shape = (20,)),\n",
    "    Dense(5),\n",
    "    Dense(10),\n",
    "    Dense(2)\n",
    "])"
   ]
  },
  {
   "cell_type": "code",
   "execution_count": 15,
   "id": "ce004cab",
   "metadata": {},
   "outputs": [
    {
     "data": {
      "text/plain": [
       "(array([21., 20., 23., 17., 19.]),\n",
       " array([-0.46700487, -0.27674925, -0.08649366,  0.10376196,  0.29401755,\n",
       "         0.48427317]),\n",
       " <BarContainer object of 5 artists>)"
      ]
     },
     "execution_count": 15,
     "metadata": {},
     "output_type": "execute_result"
    },
    {
     "data": {
      "image/png": "[encoded data removed]",
      "text/plain": [
       "<Figure size 432x288 with 1 Axes>"
      ]
     },
     "metadata": {
      "needs_background": "light"
     },
     "output_type": "display_data"
    }
   ],
   "source": [
    "plt.hist(new_model.layers[0].kernel.numpy().ravel(),bins = \"fd\")"
   ]
  }
 ],
 "metadata": {
  "kernelspec": {
   "display_name": "Python 3 (ipykernel)",
   "language": "python",
   "name": "python3"
  },
  "language_info": {
   "codemirror_mode": {
    "name": "ipython",
    "version": 3
   },
   "file_extension": ".py",
   "mimetype": "text/x-python",
   "name": "python",
   "nbconvert_exporter": "python",
   "pygments_lexer": "ipython3",
   "version": "3.9.13"
  }
 },
 "nbformat": 4,
 "nbformat_minor": 5
}
