{
 "cells": [
  {
   "cell_type": "code",
   "execution_count": 1,
   "id": "a5e8d85d",
   "metadata": {},
   "outputs": [],
   "source": [
    "%matplotlib inline "
   ]
  },
  {
   "cell_type": "code",
   "execution_count": 21,
   "id": "9fcac663",
   "metadata": {},
   "outputs": [],
   "source": [
    "import numpy as np\n",
    "import pandas as pd\n",
    "import matplotlib.pyplot as plt \n",
    "\n",
    "import os\n",
    "\n",
    "import tensorflow as tf\n",
    "from sklearn.model_selection import train_test_split\n",
    "from sklearn.preprocessing import MinMaxScaler\n",
    "from sklearn.preprocessing import LabelEncoder\n",
    "\n",
    "from tensorflow.keras.models import Sequential\n",
    "from tensorflow.keras.regularizers import L2, L1, L1L2\n",
    "from tensorflow.keras.layers import RNN, SimpleRNN, SimpleRNNCell, Input, Flatten, Dense, Dropout,Conv1D\n",
    "from tensorflow.keras.callbacks import TensorBoard\n",
    "\n",
    "from tensorflow.keras.applications.vgg19 import VGG19\n",
    "from tensorflow.keras.preprocessing.image import ImageDataGenerator"
   ]
  },
  {
   "cell_type": "code",
   "execution_count": 19,
   "id": "ad4ff90b",
   "metadata": {},
   "outputs": [],
   "source": [
    "rnn = Sequential([\n",
    "    Input(shape = (50,5)), ## [batch_size, timesteps/channels, features_in_timestep]\n",
    "    SimpleRNN(64, return_sequences=True),\n",
    "    SimpleRNN(64, return_sequences=True),\n",
    "    SimpleRNN(32, return_sequences=True),\n",
    "    Flatten(),\n",
    "    \n",
    "    Dense(42, activation=\"relu\"),\n",
    "    Dense(1000, activation=\"softmax\")\n",
    "])"
   ]
  },
  {
   "cell_type": "code",
   "execution_count": 28,
   "id": "d00cef58",
   "metadata": {},
   "outputs": [
    {
     "name": "stdout",
     "output_type": "stream",
     "text": [
      "Model: \"sequential_6\"\n",
      "_________________________________________________________________\n",
      " Layer (type)                Output Shape              Param #   \n",
      "=================================================================\n",
      " simple_rnn_18 (SimpleRNN)   (None, 50, 64)            4480      \n",
      "                                                                 \n",
      " simple_rnn_19 (SimpleRNN)   (None, 50, 64)            8256      \n",
      "                                                                 \n",
      " simple_rnn_20 (SimpleRNN)   (None, 50, 32)            3104      \n",
      "                                                                 \n",
      " flatten_1 (Flatten)         (None, 1600)              0         \n",
      "                                                                 \n",
      " dense_8 (Dense)             (None, 42)                67242     \n",
      "                                                                 \n",
      " dense_9 (Dense)             (None, 1000)              43000     \n",
      "                                                                 \n",
      "=================================================================\n",
      "Total params: 126,082\n",
      "Trainable params: 126,082\n",
      "Non-trainable params: 0\n",
      "_________________________________________________________________\n"
     ]
    }
   ],
   "source": [
    "rnn.summary()"
   ]
  },
  {
   "cell_type": "code",
   "execution_count": 27,
   "id": "f563127b",
   "metadata": {},
   "outputs": [],
   "source": [
    "conv_nn = Sequential([\n",
    "    Input(shape=(50,5)), ## [timesteps/channels, features_in_timestep]\n",
    "    Conv1D(64, kernel_size=3, activation=\"relu\"),\n",
    "    Conv1D(64, kernel_size=3, activation=\"relu\"),\n",
    "    Conv1D(32, kernel_size=3, activation=\"relu\"),\n",
    "    Flatten(),\n",
    "    \n",
    "    Dense(42, activation=\"relu\"),\n",
    "    Dense(1000, activation=\"softmax\")\n",
    "]) "
   ]
  },
  {
   "cell_type": "code",
   "execution_count": 29,
   "id": "2155288a",
   "metadata": {},
   "outputs": [
    {
     "name": "stdout",
     "output_type": "stream",
     "text": [
      "Model: \"sequential_7\"\n",
      "_________________________________________________________________\n",
      " Layer (type)                Output Shape              Param #   \n",
      "=================================================================\n",
      " conv1d (Conv1D)             (None, 48, 64)            1024      \n",
      "                                                                 \n",
      " conv1d_1 (Conv1D)           (None, 46, 64)            12352     \n",
      "                                                                 \n",
      " conv1d_2 (Conv1D)           (None, 44, 32)            6176      \n",
      "                                                                 \n",
      " flatten_2 (Flatten)         (None, 1408)              0         \n",
      "                                                                 \n",
      " dense_10 (Dense)            (None, 42)                59178     \n",
      "                                                                 \n",
      " dense_11 (Dense)            (None, 1000)              43000     \n",
      "                                                                 \n",
      "=================================================================\n",
      "Total params: 121,730\n",
      "Trainable params: 121,730\n",
      "Non-trainable params: 0\n",
      "_________________________________________________________________\n"
     ]
    }
   ],
   "source": [
    "conv_nn.summary()"
   ]
  },
  {
   "cell_type": "code",
   "execution_count": 30,
   "id": "be8de319",
   "metadata": {},
   "outputs": [],
   "source": [
    "rnn.compile(loss=\"sparse_categorical_crossentropy\")"
   ]
  },
  {
   "cell_type": "code",
   "execution_count": null,
   "id": "87927ba7",
   "metadata": {},
   "outputs": [],
   "source": []
  }
 ],
 "metadata": {
  "kernelspec": {
   "display_name": "Python 3 (ipykernel)",
   "language": "python",
   "name": "python3"
  },
  "language_info": {
   "codemirror_mode": {
    "name": "ipython",
    "version": 3
   },
   "file_extension": ".py",
   "mimetype": "text/x-python",
   "name": "python",
   "nbconvert_exporter": "python",
   "pygments_lexer": "ipython3",
   "version": "3.9.13"
  }
 },
 "nbformat": 4,
 "nbformat_minor": 5
}
