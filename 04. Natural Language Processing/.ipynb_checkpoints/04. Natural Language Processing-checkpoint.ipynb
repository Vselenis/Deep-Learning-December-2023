{
 "cells": [
  {
   "cell_type": "code",
   "execution_count": 4,
   "id": "a5e8d85d",
   "metadata": {},
   "outputs": [],
   "source": [
    "%matplotlib inline "
   ]
  },
  {
   "cell_type": "code",
   "execution_count": 16,
   "id": "9fcac663",
   "metadata": {},
   "outputs": [],
   "source": [
    "import numpy as np\n",
    "import pandas as pd\n",
    "import matplotlib.pyplot as plt \n",
    "\n",
    "import os\n",
    "\n",
    "import tensorflow as tf\n",
    "from sklearn.model_selection import train_test_split\n",
    "from sklearn.preprocessing import MinMaxScaler\n",
    "from sklearn.preprocessing import LabelEncoder\n",
    "\n",
    "from tensorflow.keras.models import Sequential\n",
    "from tensorflow.keras.regularizers import L2, L1, L1L2\n",
    "from tensorflow.keras.layers import RNN, SimpleRNN, SimpleRNNCell, GRU, LSTM, Input, Flatten, Dense, Dropout, Conv1D, Bidirectional\n",
    "from tensorflow.keras.callbacks import TensorBoard\n",
    "\n",
    "from tensorflow.keras.applications.vgg19 import VGG19\n",
    "from tensorflow.keras.preprocessing.image import ImageDataGenerator"
   ]
  },
  {
   "cell_type": "code",
   "execution_count": 6,
   "id": "ad4ff90b",
   "metadata": {},
   "outputs": [],
   "source": [
    "rnn = Sequential([\n",
    "    Input(shape = (50,5)), ## [batch_size, timesteps/channels, features_in_timestep]\n",
    "    SimpleRNN(64, return_sequences=True),\n",
    "    SimpleRNN(64, return_sequences=True),\n",
    "    SimpleRNN(32, return_sequences=True),\n",
    "    Flatten(),\n",
    "    \n",
    "    Dense(42, activation=\"relu\"),\n",
    "    Dense(1000, activation=\"softmax\")\n",
    "])"
   ]
  },
  {
   "cell_type": "code",
   "execution_count": 7,
   "id": "d00cef58",
   "metadata": {},
   "outputs": [
    {
     "name": "stdout",
     "output_type": "stream",
     "text": [
      "Model: \"sequential_1\"\n",
      "_________________________________________________________________\n",
      " Layer (type)                Output Shape              Param #   \n",
      "=================================================================\n",
      " simple_rnn_3 (SimpleRNN)    (None, 50, 64)            4480      \n",
      "                                                                 \n",
      " simple_rnn_4 (SimpleRNN)    (None, 50, 64)            8256      \n",
      "                                                                 \n",
      " simple_rnn_5 (SimpleRNN)    (None, 50, 32)            3104      \n",
      "                                                                 \n",
      " flatten_1 (Flatten)         (None, 1600)              0         \n",
      "                                                                 \n",
      " dense_2 (Dense)             (None, 42)                67242     \n",
      "                                                                 \n",
      " dense_3 (Dense)             (None, 1000)              43000     \n",
      "                                                                 \n",
      "=================================================================\n",
      "Total params: 126,082\n",
      "Trainable params: 126,082\n",
      "Non-trainable params: 0\n",
      "_________________________________________________________________\n"
     ]
    }
   ],
   "source": [
    "rnn.summary()"
   ]
  },
  {
   "cell_type": "code",
   "execution_count": 8,
   "id": "f563127b",
   "metadata": {},
   "outputs": [],
   "source": [
    "conv_nn = Sequential([\n",
    "    Input(shape=(50,5)), ## [timesteps/channels, features_in_timestep]\n",
    "    Conv1D(64, kernel_size=3, activation=\"relu\"),\n",
    "    Conv1D(64, kernel_size=3, activation=\"relu\"),\n",
    "    Conv1D(32, kernel_size=3, activation=\"relu\"),\n",
    "    Flatten(),\n",
    "    \n",
    "    Dense(42, activation=\"relu\"),\n",
    "    Dense(1000, activation=\"softmax\")\n",
    "]) "
   ]
  },
  {
   "cell_type": "code",
   "execution_count": 9,
   "id": "2155288a",
   "metadata": {},
   "outputs": [
    {
     "name": "stdout",
     "output_type": "stream",
     "text": [
      "Model: \"sequential_2\"\n",
      "_________________________________________________________________\n",
      " Layer (type)                Output Shape              Param #   \n",
      "=================================================================\n",
      " conv1d (Conv1D)             (None, 48, 64)            1024      \n",
      "                                                                 \n",
      " conv1d_1 (Conv1D)           (None, 46, 64)            12352     \n",
      "                                                                 \n",
      " conv1d_2 (Conv1D)           (None, 44, 32)            6176      \n",
      "                                                                 \n",
      " flatten_2 (Flatten)         (None, 1408)              0         \n",
      "                                                                 \n",
      " dense_4 (Dense)             (None, 42)                59178     \n",
      "                                                                 \n",
      " dense_5 (Dense)             (None, 1000)              43000     \n",
      "                                                                 \n",
      "=================================================================\n",
      "Total params: 121,730\n",
      "Trainable params: 121,730\n",
      "Non-trainable params: 0\n",
      "_________________________________________________________________\n"
     ]
    }
   ],
   "source": [
    "conv_nn.summary()"
   ]
  },
  {
   "cell_type": "code",
   "execution_count": 10,
   "id": "be8de319",
   "metadata": {},
   "outputs": [],
   "source": [
    "rnn.compile(loss=\"sparse_categorical_crossentropy\")"
   ]
  },
  {
   "cell_type": "code",
   "execution_count": 12,
   "id": "87927ba7",
   "metadata": {},
   "outputs": [],
   "source": [
    "gru = Sequential([\n",
    "    Input(shape = (50,5)),\n",
    "    GRU(20, return_sequences=True)\n",
    "])"
   ]
  },
  {
   "cell_type": "code",
   "execution_count": 13,
   "id": "3f2e61c7",
   "metadata": {},
   "outputs": [
    {
     "name": "stdout",
     "output_type": "stream",
     "text": [
      "Model: \"sequential_4\"\n",
      "_________________________________________________________________\n",
      " Layer (type)                Output Shape              Param #   \n",
      "=================================================================\n",
      " gru_1 (GRU)                 (None, 50, 20)            1620      \n",
      "                                                                 \n",
      "=================================================================\n",
      "Total params: 1,620\n",
      "Trainable params: 1,620\n",
      "Non-trainable params: 0\n",
      "_________________________________________________________________\n"
     ]
    }
   ],
   "source": [
    "gru.summary()"
   ]
  },
  {
   "cell_type": "code",
   "execution_count": 14,
   "id": "bab33db7",
   "metadata": {},
   "outputs": [],
   "source": [
    "lstm = Sequential([\n",
    "    Input(shape = (50,5)),\n",
    "    LSTM(20, return_sequences=True)\n",
    "])"
   ]
  },
  {
   "cell_type": "code",
   "execution_count": 15,
   "id": "90eff949",
   "metadata": {},
   "outputs": [
    {
     "name": "stdout",
     "output_type": "stream",
     "text": [
      "Model: \"sequential_5\"\n",
      "_________________________________________________________________\n",
      " Layer (type)                Output Shape              Param #   \n",
      "=================================================================\n",
      " lstm (LSTM)                 (None, 50, 20)            2080      \n",
      "                                                                 \n",
      "=================================================================\n",
      "Total params: 2,080\n",
      "Trainable params: 2,080\n",
      "Non-trainable params: 0\n",
      "_________________________________________________________________\n"
     ]
    }
   ],
   "source": [
    "lstm.summary()"
   ]
  },
  {
   "cell_type": "code",
   "execution_count": 21,
   "id": "2529b62f",
   "metadata": {},
   "outputs": [],
   "source": [
    "bidirectional_model = Sequential([\n",
    "    Input(shape = (50, 5)),\n",
    "    Bidirectional(LSTM(20, return_sequences=True), merge_mode= \"sum\"),\n",
    "    Bidirectional(LSTM(20), backward_layer= GRU(20, go_backwards=True)), #imbedding/ dimensional reduction\n",
    "    \n",
    "])"
   ]
  },
  {
   "cell_type": "code",
   "execution_count": 22,
   "id": "9f66731f",
   "metadata": {},
   "outputs": [
    {
     "name": "stdout",
     "output_type": "stream",
     "text": [
      "Model: \"sequential_8\"\n",
      "_________________________________________________________________\n",
      " Layer (type)                Output Shape              Param #   \n",
      "=================================================================\n",
      " bidirectional_4 (Bidirectio  (None, 50, 20)           4160      \n",
      " nal)                                                            \n",
      "                                                                 \n",
      " bidirectional_5 (Bidirectio  (None, 40)               5800      \n",
      " nal)                                                            \n",
      "                                                                 \n",
      "=================================================================\n",
      "Total params: 9,960\n",
      "Trainable params: 9,960\n",
      "Non-trainable params: 0\n",
      "_________________________________________________________________\n"
     ]
    }
   ],
   "source": [
    "bidirectional_model.summary()"
   ]
  }
 ],
 "metadata": {
  "kernelspec": {
   "display_name": "Python 3 (ipykernel)",
   "language": "python",
   "name": "python3"
  },
  "language_info": {
   "codemirror_mode": {
    "name": "ipython",
    "version": 3
   },
   "file_extension": ".py",
   "mimetype": "text/x-python",
   "name": "python",
   "nbconvert_exporter": "python",
   "pygments_lexer": "ipython3",
   "version": "3.9.13"
  }
 },
 "nbformat": 4,
 "nbformat_minor": 5
}
